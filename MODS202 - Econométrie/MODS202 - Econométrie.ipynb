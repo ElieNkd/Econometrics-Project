{
 "cells": [
  {
   "cell_type": "markdown",
   "id": "4f70f867",
   "metadata": {},
   "source": [
    "# Econometrics Project\n",
    "## Done by: CHAHROUR Hussein and NAKAD Elie\n",
    "## Prepared for: Pr. Patrick Waelbroeck"
   ]
  },
  {
   "cell_type": "markdown",
   "id": "785efc05",
   "metadata": {},
   "source": [
    "# <font color=\"#ff0000\">Part 1 -  Régression</font>"
   ]
  },
  {
   "cell_type": "code",
   "execution_count": 1,
   "id": "778933eb",
   "metadata": {},
   "outputs": [],
   "source": [
    "import numpy as np\n",
    "import pandas as pd\n",
    "import seaborn as sns\n",
    "import matplotlib.pyplot as plt\n",
    "from scipy.stats import t\n",
    "from scipy.stats import f\n",
    "import statsmodels.api as sm"
   ]
  },
  {
   "cell_type": "code",
   "execution_count": 2,
   "id": "01c7ff4b",
   "metadata": {},
   "outputs": [
    {
     "data": {
      "text/html": [
       "<div>\n",
       "<style scoped>\n",
       "    .dataframe tbody tr th:only-of-type {\n",
       "        vertical-align: middle;\n",
       "    }\n",
       "\n",
       "    .dataframe tbody tr th {\n",
       "        vertical-align: top;\n",
       "    }\n",
       "\n",
       "    .dataframe thead th {\n",
       "        text-align: right;\n",
       "    }\n",
       "</style>\n",
       "<table border=\"1\" class=\"dataframe\">\n",
       "  <thead>\n",
       "    <tr style=\"text-align: right;\">\n",
       "      <th></th>\n",
       "      <th>0</th>\n",
       "      <th>1</th>\n",
       "      <th>2</th>\n",
       "      <th>3</th>\n",
       "      <th>4</th>\n",
       "      <th>5</th>\n",
       "      <th>6</th>\n",
       "      <th>7</th>\n",
       "      <th>8</th>\n",
       "      <th>9</th>\n",
       "      <th>...</th>\n",
       "      <th>12</th>\n",
       "      <th>13</th>\n",
       "      <th>14</th>\n",
       "      <th>15</th>\n",
       "      <th>16</th>\n",
       "      <th>17</th>\n",
       "      <th>18</th>\n",
       "      <th>19</th>\n",
       "      <th>20</th>\n",
       "      <th>21</th>\n",
       "    </tr>\n",
       "  </thead>\n",
       "  <tbody>\n",
       "    <tr>\n",
       "      <th>0</th>\n",
       "      <td>1</td>\n",
       "      <td>1610</td>\n",
       "      <td>1</td>\n",
       "      <td>0</td>\n",
       "      <td>32</td>\n",
       "      <td>12</td>\n",
       "      <td>3.354</td>\n",
       "      <td>2.65</td>\n",
       "      <td>2708</td>\n",
       "      <td>34</td>\n",
       "      <td>...</td>\n",
       "      <td>16310</td>\n",
       "      <td>0.7215</td>\n",
       "      <td>12</td>\n",
       "      <td>7</td>\n",
       "      <td>5.0</td>\n",
       "      <td>0</td>\n",
       "      <td>14</td>\n",
       "      <td>10.910060</td>\n",
       "      <td>1.210154</td>\n",
       "      <td>196</td>\n",
       "    </tr>\n",
       "    <tr>\n",
       "      <th>1</th>\n",
       "      <td>1</td>\n",
       "      <td>1656</td>\n",
       "      <td>0</td>\n",
       "      <td>2</td>\n",
       "      <td>30</td>\n",
       "      <td>12</td>\n",
       "      <td>1.3889</td>\n",
       "      <td>2.65</td>\n",
       "      <td>2310</td>\n",
       "      <td>30</td>\n",
       "      <td>...</td>\n",
       "      <td>21800</td>\n",
       "      <td>0.6615</td>\n",
       "      <td>7</td>\n",
       "      <td>7</td>\n",
       "      <td>11.0</td>\n",
       "      <td>1</td>\n",
       "      <td>5</td>\n",
       "      <td>19.499980</td>\n",
       "      <td>.3285121</td>\n",
       "      <td>25</td>\n",
       "    </tr>\n",
       "    <tr>\n",
       "      <th>2</th>\n",
       "      <td>1</td>\n",
       "      <td>1980</td>\n",
       "      <td>1</td>\n",
       "      <td>3</td>\n",
       "      <td>35</td>\n",
       "      <td>12</td>\n",
       "      <td>4.5455</td>\n",
       "      <td>4.04</td>\n",
       "      <td>3072</td>\n",
       "      <td>40</td>\n",
       "      <td>...</td>\n",
       "      <td>21040</td>\n",
       "      <td>0.6915</td>\n",
       "      <td>12</td>\n",
       "      <td>7</td>\n",
       "      <td>5.0</td>\n",
       "      <td>0</td>\n",
       "      <td>15</td>\n",
       "      <td>12.039910</td>\n",
       "      <td>1.514138</td>\n",
       "      <td>225</td>\n",
       "    </tr>\n",
       "    <tr>\n",
       "      <th>3</th>\n",
       "      <td>1</td>\n",
       "      <td>456</td>\n",
       "      <td>0</td>\n",
       "      <td>3</td>\n",
       "      <td>34</td>\n",
       "      <td>12</td>\n",
       "      <td>1.0965</td>\n",
       "      <td>3.25</td>\n",
       "      <td>1920</td>\n",
       "      <td>53</td>\n",
       "      <td>...</td>\n",
       "      <td>7300</td>\n",
       "      <td>0.7815</td>\n",
       "      <td>7</td>\n",
       "      <td>7</td>\n",
       "      <td>5.0</td>\n",
       "      <td>0</td>\n",
       "      <td>6</td>\n",
       "      <td>6.799996</td>\n",
       "      <td>.0921233</td>\n",
       "      <td>36</td>\n",
       "    </tr>\n",
       "    <tr>\n",
       "      <th>4</th>\n",
       "      <td>1</td>\n",
       "      <td>1568</td>\n",
       "      <td>1</td>\n",
       "      <td>2</td>\n",
       "      <td>31</td>\n",
       "      <td>14</td>\n",
       "      <td>4.5918</td>\n",
       "      <td>3.60</td>\n",
       "      <td>2000</td>\n",
       "      <td>32</td>\n",
       "      <td>...</td>\n",
       "      <td>27300</td>\n",
       "      <td>0.6215</td>\n",
       "      <td>12</td>\n",
       "      <td>14</td>\n",
       "      <td>9.5</td>\n",
       "      <td>1</td>\n",
       "      <td>7</td>\n",
       "      <td>20.100060</td>\n",
       "      <td>1.524272</td>\n",
       "      <td>49</td>\n",
       "    </tr>\n",
       "    <tr>\n",
       "      <th>...</th>\n",
       "      <td>...</td>\n",
       "      <td>...</td>\n",
       "      <td>...</td>\n",
       "      <td>...</td>\n",
       "      <td>...</td>\n",
       "      <td>...</td>\n",
       "      <td>...</td>\n",
       "      <td>...</td>\n",
       "      <td>...</td>\n",
       "      <td>...</td>\n",
       "      <td>...</td>\n",
       "      <td>...</td>\n",
       "      <td>...</td>\n",
       "      <td>...</td>\n",
       "      <td>...</td>\n",
       "      <td>...</td>\n",
       "      <td>...</td>\n",
       "      <td>...</td>\n",
       "      <td>...</td>\n",
       "      <td>...</td>\n",
       "      <td>...</td>\n",
       "    </tr>\n",
       "    <tr>\n",
       "      <th>748</th>\n",
       "      <td>0</td>\n",
       "      <td>0</td>\n",
       "      <td>0</td>\n",
       "      <td>2</td>\n",
       "      <td>40</td>\n",
       "      <td>13</td>\n",
       "      <td>.</td>\n",
       "      <td>0.00</td>\n",
       "      <td>3020</td>\n",
       "      <td>43</td>\n",
       "      <td>...</td>\n",
       "      <td>28200</td>\n",
       "      <td>0.6215</td>\n",
       "      <td>10</td>\n",
       "      <td>10</td>\n",
       "      <td>9.5</td>\n",
       "      <td>1</td>\n",
       "      <td>5</td>\n",
       "      <td>28.200000</td>\n",
       "      <td>.</td>\n",
       "      <td>25</td>\n",
       "    </tr>\n",
       "    <tr>\n",
       "      <th>749</th>\n",
       "      <td>0</td>\n",
       "      <td>0</td>\n",
       "      <td>2</td>\n",
       "      <td>3</td>\n",
       "      <td>31</td>\n",
       "      <td>12</td>\n",
       "      <td>.</td>\n",
       "      <td>0.00</td>\n",
       "      <td>2056</td>\n",
       "      <td>33</td>\n",
       "      <td>...</td>\n",
       "      <td>10000</td>\n",
       "      <td>0.7715</td>\n",
       "      <td>12</td>\n",
       "      <td>12</td>\n",
       "      <td>7.5</td>\n",
       "      <td>0</td>\n",
       "      <td>14</td>\n",
       "      <td>10.000000</td>\n",
       "      <td>.</td>\n",
       "      <td>196</td>\n",
       "    </tr>\n",
       "    <tr>\n",
       "      <th>750</th>\n",
       "      <td>0</td>\n",
       "      <td>0</td>\n",
       "      <td>0</td>\n",
       "      <td>0</td>\n",
       "      <td>43</td>\n",
       "      <td>12</td>\n",
       "      <td>.</td>\n",
       "      <td>0.00</td>\n",
       "      <td>2383</td>\n",
       "      <td>43</td>\n",
       "      <td>...</td>\n",
       "      <td>9952</td>\n",
       "      <td>0.7515</td>\n",
       "      <td>10</td>\n",
       "      <td>3</td>\n",
       "      <td>7.5</td>\n",
       "      <td>0</td>\n",
       "      <td>4</td>\n",
       "      <td>9.952000</td>\n",
       "      <td>.</td>\n",
       "      <td>16</td>\n",
       "    </tr>\n",
       "    <tr>\n",
       "      <th>751</th>\n",
       "      <td>0</td>\n",
       "      <td>0</td>\n",
       "      <td>0</td>\n",
       "      <td>0</td>\n",
       "      <td>60</td>\n",
       "      <td>12</td>\n",
       "      <td>.</td>\n",
       "      <td>0.00</td>\n",
       "      <td>1705</td>\n",
       "      <td>55</td>\n",
       "      <td>...</td>\n",
       "      <td>24984</td>\n",
       "      <td>0.6215</td>\n",
       "      <td>12</td>\n",
       "      <td>12</td>\n",
       "      <td>14.0</td>\n",
       "      <td>1</td>\n",
       "      <td>15</td>\n",
       "      <td>24.984000</td>\n",
       "      <td>.</td>\n",
       "      <td>225</td>\n",
       "    </tr>\n",
       "    <tr>\n",
       "      <th>752</th>\n",
       "      <td>0</td>\n",
       "      <td>0</td>\n",
       "      <td>0</td>\n",
       "      <td>3</td>\n",
       "      <td>39</td>\n",
       "      <td>9</td>\n",
       "      <td>.</td>\n",
       "      <td>0.00</td>\n",
       "      <td>3120</td>\n",
       "      <td>48</td>\n",
       "      <td>...</td>\n",
       "      <td>28363</td>\n",
       "      <td>0.6915</td>\n",
       "      <td>7</td>\n",
       "      <td>7</td>\n",
       "      <td>11.0</td>\n",
       "      <td>1</td>\n",
       "      <td>12</td>\n",
       "      <td>28.363000</td>\n",
       "      <td>.</td>\n",
       "      <td>144</td>\n",
       "    </tr>\n",
       "  </tbody>\n",
       "</table>\n",
       "<p>753 rows × 22 columns</p>\n",
       "</div>"
      ],
      "text/plain": [
       "     0     1   2   3   4   5       6     7     8   9   ...     12      13  14  \\\n",
       "0     1  1610   1   0  32  12   3.354  2.65  2708  34  ...  16310  0.7215  12   \n",
       "1     1  1656   0   2  30  12  1.3889  2.65  2310  30  ...  21800  0.6615   7   \n",
       "2     1  1980   1   3  35  12  4.5455  4.04  3072  40  ...  21040  0.6915  12   \n",
       "3     1   456   0   3  34  12  1.0965  3.25  1920  53  ...   7300  0.7815   7   \n",
       "4     1  1568   1   2  31  14  4.5918  3.60  2000  32  ...  27300  0.6215  12   \n",
       "..   ..   ...  ..  ..  ..  ..     ...   ...   ...  ..  ...    ...     ...  ..   \n",
       "748   0     0   0   2  40  13       .  0.00  3020  43  ...  28200  0.6215  10   \n",
       "749   0     0   2   3  31  12       .  0.00  2056  33  ...  10000  0.7715  12   \n",
       "750   0     0   0   0  43  12       .  0.00  2383  43  ...   9952  0.7515  10   \n",
       "751   0     0   0   0  60  12       .  0.00  1705  55  ...  24984  0.6215  12   \n",
       "752   0     0   0   3  39   9       .  0.00  3120  48  ...  28363  0.6915   7   \n",
       "\n",
       "     15    16  17  18         19        20   21  \n",
       "0     7   5.0   0  14  10.910060  1.210154  196  \n",
       "1     7  11.0   1   5  19.499980  .3285121   25  \n",
       "2     7   5.0   0  15  12.039910  1.514138  225  \n",
       "3     7   5.0   0   6   6.799996  .0921233   36  \n",
       "4    14   9.5   1   7  20.100060  1.524272   49  \n",
       "..   ..   ...  ..  ..        ...       ...  ...  \n",
       "748  10   9.5   1   5  28.200000         .   25  \n",
       "749  12   7.5   0  14  10.000000         .  196  \n",
       "750   3   7.5   0   4   9.952000         .   16  \n",
       "751  12  14.0   1  15  24.984000         .  225  \n",
       "752   7  11.0   1  12  28.363000         .  144  \n",
       "\n",
       "[753 rows x 22 columns]"
      ]
     },
     "execution_count": 2,
     "metadata": {},
     "output_type": "execute_result"
    }
   ],
   "source": [
    "path=r'MROZ.txt'\n",
    "df=pd.read_csv(path, delim_whitespace=True, header=None)\n",
    "df"
   ]
  },
  {
   "cell_type": "code",
   "execution_count": 3,
   "id": "99e9ba65",
   "metadata": {},
   "outputs": [],
   "source": [
    "import warnings\n",
    "warnings.filterwarnings('ignore')"
   ]
  },
  {
   "cell_type": "markdown",
   "id": "4b38c2cc",
   "metadata": {},
   "source": [
    "## Question 1"
   ]
  },
  {
   "cell_type": "code",
   "execution_count": 4,
   "id": "b45983ab",
   "metadata": {},
   "outputs": [
    {
     "data": {
      "text/html": [
       "<div>\n",
       "<style scoped>\n",
       "    .dataframe tbody tr th:only-of-type {\n",
       "        vertical-align: middle;\n",
       "    }\n",
       "\n",
       "    .dataframe tbody tr th {\n",
       "        vertical-align: top;\n",
       "    }\n",
       "\n",
       "    .dataframe thead th {\n",
       "        text-align: right;\n",
       "    }\n",
       "</style>\n",
       "<table border=\"1\" class=\"dataframe\">\n",
       "  <thead>\n",
       "    <tr style=\"text-align: right;\">\n",
       "      <th></th>\n",
       "      <th>0</th>\n",
       "      <th>1</th>\n",
       "      <th>2</th>\n",
       "      <th>3</th>\n",
       "      <th>4</th>\n",
       "      <th>5</th>\n",
       "      <th>6</th>\n",
       "      <th>7</th>\n",
       "      <th>8</th>\n",
       "      <th>9</th>\n",
       "      <th>...</th>\n",
       "      <th>12</th>\n",
       "      <th>13</th>\n",
       "      <th>14</th>\n",
       "      <th>15</th>\n",
       "      <th>16</th>\n",
       "      <th>17</th>\n",
       "      <th>18</th>\n",
       "      <th>19</th>\n",
       "      <th>20</th>\n",
       "      <th>21</th>\n",
       "    </tr>\n",
       "  </thead>\n",
       "  <tbody>\n",
       "    <tr>\n",
       "      <th>0</th>\n",
       "      <td>1</td>\n",
       "      <td>1610</td>\n",
       "      <td>1</td>\n",
       "      <td>0</td>\n",
       "      <td>32</td>\n",
       "      <td>12</td>\n",
       "      <td>3.3540</td>\n",
       "      <td>2.65</td>\n",
       "      <td>2708</td>\n",
       "      <td>34</td>\n",
       "      <td>...</td>\n",
       "      <td>16310</td>\n",
       "      <td>0.7215</td>\n",
       "      <td>12</td>\n",
       "      <td>7</td>\n",
       "      <td>5.0</td>\n",
       "      <td>0</td>\n",
       "      <td>14</td>\n",
       "      <td>10.910060</td>\n",
       "      <td>1.210154</td>\n",
       "      <td>196</td>\n",
       "    </tr>\n",
       "    <tr>\n",
       "      <th>1</th>\n",
       "      <td>1</td>\n",
       "      <td>1656</td>\n",
       "      <td>0</td>\n",
       "      <td>2</td>\n",
       "      <td>30</td>\n",
       "      <td>12</td>\n",
       "      <td>1.3889</td>\n",
       "      <td>2.65</td>\n",
       "      <td>2310</td>\n",
       "      <td>30</td>\n",
       "      <td>...</td>\n",
       "      <td>21800</td>\n",
       "      <td>0.6615</td>\n",
       "      <td>7</td>\n",
       "      <td>7</td>\n",
       "      <td>11.0</td>\n",
       "      <td>1</td>\n",
       "      <td>5</td>\n",
       "      <td>19.499980</td>\n",
       "      <td>.3285121</td>\n",
       "      <td>25</td>\n",
       "    </tr>\n",
       "    <tr>\n",
       "      <th>2</th>\n",
       "      <td>1</td>\n",
       "      <td>1980</td>\n",
       "      <td>1</td>\n",
       "      <td>3</td>\n",
       "      <td>35</td>\n",
       "      <td>12</td>\n",
       "      <td>4.5455</td>\n",
       "      <td>4.04</td>\n",
       "      <td>3072</td>\n",
       "      <td>40</td>\n",
       "      <td>...</td>\n",
       "      <td>21040</td>\n",
       "      <td>0.6915</td>\n",
       "      <td>12</td>\n",
       "      <td>7</td>\n",
       "      <td>5.0</td>\n",
       "      <td>0</td>\n",
       "      <td>15</td>\n",
       "      <td>12.039910</td>\n",
       "      <td>1.514138</td>\n",
       "      <td>225</td>\n",
       "    </tr>\n",
       "    <tr>\n",
       "      <th>3</th>\n",
       "      <td>1</td>\n",
       "      <td>456</td>\n",
       "      <td>0</td>\n",
       "      <td>3</td>\n",
       "      <td>34</td>\n",
       "      <td>12</td>\n",
       "      <td>1.0965</td>\n",
       "      <td>3.25</td>\n",
       "      <td>1920</td>\n",
       "      <td>53</td>\n",
       "      <td>...</td>\n",
       "      <td>7300</td>\n",
       "      <td>0.7815</td>\n",
       "      <td>7</td>\n",
       "      <td>7</td>\n",
       "      <td>5.0</td>\n",
       "      <td>0</td>\n",
       "      <td>6</td>\n",
       "      <td>6.799996</td>\n",
       "      <td>.0921233</td>\n",
       "      <td>36</td>\n",
       "    </tr>\n",
       "    <tr>\n",
       "      <th>4</th>\n",
       "      <td>1</td>\n",
       "      <td>1568</td>\n",
       "      <td>1</td>\n",
       "      <td>2</td>\n",
       "      <td>31</td>\n",
       "      <td>14</td>\n",
       "      <td>4.5918</td>\n",
       "      <td>3.60</td>\n",
       "      <td>2000</td>\n",
       "      <td>32</td>\n",
       "      <td>...</td>\n",
       "      <td>27300</td>\n",
       "      <td>0.6215</td>\n",
       "      <td>12</td>\n",
       "      <td>14</td>\n",
       "      <td>9.5</td>\n",
       "      <td>1</td>\n",
       "      <td>7</td>\n",
       "      <td>20.100060</td>\n",
       "      <td>1.524272</td>\n",
       "      <td>49</td>\n",
       "    </tr>\n",
       "    <tr>\n",
       "      <th>...</th>\n",
       "      <td>...</td>\n",
       "      <td>...</td>\n",
       "      <td>...</td>\n",
       "      <td>...</td>\n",
       "      <td>...</td>\n",
       "      <td>...</td>\n",
       "      <td>...</td>\n",
       "      <td>...</td>\n",
       "      <td>...</td>\n",
       "      <td>...</td>\n",
       "      <td>...</td>\n",
       "      <td>...</td>\n",
       "      <td>...</td>\n",
       "      <td>...</td>\n",
       "      <td>...</td>\n",
       "      <td>...</td>\n",
       "      <td>...</td>\n",
       "      <td>...</td>\n",
       "      <td>...</td>\n",
       "      <td>...</td>\n",
       "      <td>...</td>\n",
       "    </tr>\n",
       "    <tr>\n",
       "      <th>423</th>\n",
       "      <td>1</td>\n",
       "      <td>680</td>\n",
       "      <td>0</td>\n",
       "      <td>5</td>\n",
       "      <td>36</td>\n",
       "      <td>10</td>\n",
       "      <td>2.3118</td>\n",
       "      <td>0.00</td>\n",
       "      <td>3430</td>\n",
       "      <td>43</td>\n",
       "      <td>...</td>\n",
       "      <td>19772</td>\n",
       "      <td>0.7215</td>\n",
       "      <td>7</td>\n",
       "      <td>7</td>\n",
       "      <td>7.5</td>\n",
       "      <td>0</td>\n",
       "      <td>2</td>\n",
       "      <td>18.199980</td>\n",
       "      <td>.8380265</td>\n",
       "      <td>4</td>\n",
       "    </tr>\n",
       "    <tr>\n",
       "      <th>424</th>\n",
       "      <td>1</td>\n",
       "      <td>2450</td>\n",
       "      <td>0</td>\n",
       "      <td>1</td>\n",
       "      <td>40</td>\n",
       "      <td>12</td>\n",
       "      <td>5.3061</td>\n",
       "      <td>6.50</td>\n",
       "      <td>2008</td>\n",
       "      <td>40</td>\n",
       "      <td>...</td>\n",
       "      <td>35641</td>\n",
       "      <td>0.6215</td>\n",
       "      <td>7</td>\n",
       "      <td>7</td>\n",
       "      <td>5.0</td>\n",
       "      <td>1</td>\n",
       "      <td>21</td>\n",
       "      <td>22.641060</td>\n",
       "      <td>1.668857</td>\n",
       "      <td>441</td>\n",
       "    </tr>\n",
       "    <tr>\n",
       "      <th>425</th>\n",
       "      <td>1</td>\n",
       "      <td>2144</td>\n",
       "      <td>0</td>\n",
       "      <td>2</td>\n",
       "      <td>43</td>\n",
       "      <td>13</td>\n",
       "      <td>5.8675</td>\n",
       "      <td>0.00</td>\n",
       "      <td>2140</td>\n",
       "      <td>43</td>\n",
       "      <td>...</td>\n",
       "      <td>34220</td>\n",
       "      <td>0.5815</td>\n",
       "      <td>7</td>\n",
       "      <td>7</td>\n",
       "      <td>7.5</td>\n",
       "      <td>1</td>\n",
       "      <td>22</td>\n",
       "      <td>21.640080</td>\n",
       "      <td>1.769429</td>\n",
       "      <td>484</td>\n",
       "    </tr>\n",
       "    <tr>\n",
       "      <th>426</th>\n",
       "      <td>1</td>\n",
       "      <td>1760</td>\n",
       "      <td>0</td>\n",
       "      <td>1</td>\n",
       "      <td>33</td>\n",
       "      <td>12</td>\n",
       "      <td>3.4091</td>\n",
       "      <td>3.21</td>\n",
       "      <td>3380</td>\n",
       "      <td>34</td>\n",
       "      <td>...</td>\n",
       "      <td>30000</td>\n",
       "      <td>0.5815</td>\n",
       "      <td>12</td>\n",
       "      <td>16</td>\n",
       "      <td>11.0</td>\n",
       "      <td>1</td>\n",
       "      <td>14</td>\n",
       "      <td>23.999980</td>\n",
       "      <td>1.226448</td>\n",
       "      <td>196</td>\n",
       "    </tr>\n",
       "    <tr>\n",
       "      <th>427</th>\n",
       "      <td>1</td>\n",
       "      <td>490</td>\n",
       "      <td>0</td>\n",
       "      <td>1</td>\n",
       "      <td>30</td>\n",
       "      <td>12</td>\n",
       "      <td>4.0816</td>\n",
       "      <td>2.46</td>\n",
       "      <td>2430</td>\n",
       "      <td>33</td>\n",
       "      <td>...</td>\n",
       "      <td>18000</td>\n",
       "      <td>0.6915</td>\n",
       "      <td>12</td>\n",
       "      <td>12</td>\n",
       "      <td>7.5</td>\n",
       "      <td>1</td>\n",
       "      <td>7</td>\n",
       "      <td>16.000020</td>\n",
       "      <td>1.406489</td>\n",
       "      <td>49</td>\n",
       "    </tr>\n",
       "  </tbody>\n",
       "</table>\n",
       "<p>428 rows × 22 columns</p>\n",
       "</div>"
      ],
      "text/plain": [
       "     0     1   2   3   4   5       6     7     8   9   ...     12      13  14  \\\n",
       "0     1  1610   1   0  32  12  3.3540  2.65  2708  34  ...  16310  0.7215  12   \n",
       "1     1  1656   0   2  30  12  1.3889  2.65  2310  30  ...  21800  0.6615   7   \n",
       "2     1  1980   1   3  35  12  4.5455  4.04  3072  40  ...  21040  0.6915  12   \n",
       "3     1   456   0   3  34  12  1.0965  3.25  1920  53  ...   7300  0.7815   7   \n",
       "4     1  1568   1   2  31  14  4.5918  3.60  2000  32  ...  27300  0.6215  12   \n",
       "..   ..   ...  ..  ..  ..  ..     ...   ...   ...  ..  ...    ...     ...  ..   \n",
       "423   1   680   0   5  36  10  2.3118  0.00  3430  43  ...  19772  0.7215   7   \n",
       "424   1  2450   0   1  40  12  5.3061  6.50  2008  40  ...  35641  0.6215   7   \n",
       "425   1  2144   0   2  43  13  5.8675  0.00  2140  43  ...  34220  0.5815   7   \n",
       "426   1  1760   0   1  33  12  3.4091  3.21  3380  34  ...  30000  0.5815  12   \n",
       "427   1   490   0   1  30  12  4.0816  2.46  2430  33  ...  18000  0.6915  12   \n",
       "\n",
       "     15    16  17  18         19        20   21  \n",
       "0     7   5.0   0  14  10.910060  1.210154  196  \n",
       "1     7  11.0   1   5  19.499980  .3285121   25  \n",
       "2     7   5.0   0  15  12.039910  1.514138  225  \n",
       "3     7   5.0   0   6   6.799996  .0921233   36  \n",
       "4    14   9.5   1   7  20.100060  1.524272   49  \n",
       "..   ..   ...  ..  ..        ...       ...  ...  \n",
       "423   7   7.5   0   2  18.199980  .8380265    4  \n",
       "424   7   5.0   1  21  22.641060  1.668857  441  \n",
       "425   7   7.5   1  22  21.640080  1.769429  484  \n",
       "426  16  11.0   1  14  23.999980  1.226448  196  \n",
       "427  12   7.5   1   7  16.000020  1.406489   49  \n",
       "\n",
       "[428 rows x 22 columns]"
      ]
     },
     "execution_count": 4,
     "metadata": {},
     "output_type": "execute_result"
    }
   ],
   "source": [
    "df=df.loc[df[6]!='.']\n",
    "df[6]=df[6].astype(float)\n",
    "df=df.loc[df[6]>0]\n",
    "df"
   ]
  },
  {
   "cell_type": "markdown",
   "id": "e2e292e9",
   "metadata": {},
   "source": [
    "## Question 2"
   ]
  },
  {
   "cell_type": "code",
   "execution_count": 5,
   "id": "b9f68203",
   "metadata": {},
   "outputs": [],
   "source": [
    "\n",
    "kidslt6=df[2]\n",
    "kidsgt6=df[3]\n",
    "age=df[4]\n",
    "educ=df[5]\n",
    "wage=df[6]\n",
    "huswage=df[11]\n",
    "df2=df.rename(columns={2:\"kidslt6\",3:\"kidsgt6\",4:\"age\",5:\"educ\",6:\"wage\",11:\"huswage\"});"
   ]
  },
  {
   "cell_type": "code",
   "execution_count": 6,
   "id": "ab5569f9",
   "metadata": {},
   "outputs": [
    {
     "data": {
      "text/html": [
       "<div>\n",
       "<style scoped>\n",
       "    .dataframe tbody tr th:only-of-type {\n",
       "        vertical-align: middle;\n",
       "    }\n",
       "\n",
       "    .dataframe tbody tr th {\n",
       "        vertical-align: top;\n",
       "    }\n",
       "\n",
       "    .dataframe thead th {\n",
       "        text-align: right;\n",
       "    }\n",
       "</style>\n",
       "<table border=\"1\" class=\"dataframe\">\n",
       "  <thead>\n",
       "    <tr style=\"text-align: right;\">\n",
       "      <th></th>\n",
       "      <th>wage</th>\n",
       "      <th>age</th>\n",
       "      <th>educ</th>\n",
       "    </tr>\n",
       "  </thead>\n",
       "  <tbody>\n",
       "    <tr>\n",
       "      <th>count</th>\n",
       "      <td>428.000000</td>\n",
       "      <td>428.000000</td>\n",
       "      <td>428.000000</td>\n",
       "    </tr>\n",
       "    <tr>\n",
       "      <th>mean</th>\n",
       "      <td>4.177682</td>\n",
       "      <td>41.971963</td>\n",
       "      <td>12.658879</td>\n",
       "    </tr>\n",
       "    <tr>\n",
       "      <th>std</th>\n",
       "      <td>3.310282</td>\n",
       "      <td>7.721084</td>\n",
       "      <td>2.285376</td>\n",
       "    </tr>\n",
       "    <tr>\n",
       "      <th>min</th>\n",
       "      <td>0.128200</td>\n",
       "      <td>30.000000</td>\n",
       "      <td>5.000000</td>\n",
       "    </tr>\n",
       "    <tr>\n",
       "      <th>25%</th>\n",
       "      <td>2.262600</td>\n",
       "      <td>35.000000</td>\n",
       "      <td>12.000000</td>\n",
       "    </tr>\n",
       "    <tr>\n",
       "      <th>50%</th>\n",
       "      <td>3.481900</td>\n",
       "      <td>42.000000</td>\n",
       "      <td>12.000000</td>\n",
       "    </tr>\n",
       "    <tr>\n",
       "      <th>75%</th>\n",
       "      <td>4.970750</td>\n",
       "      <td>47.250000</td>\n",
       "      <td>14.000000</td>\n",
       "    </tr>\n",
       "    <tr>\n",
       "      <th>max</th>\n",
       "      <td>25.000000</td>\n",
       "      <td>60.000000</td>\n",
       "      <td>17.000000</td>\n",
       "    </tr>\n",
       "  </tbody>\n",
       "</table>\n",
       "</div>"
      ],
      "text/plain": [
       "             wage         age        educ\n",
       "count  428.000000  428.000000  428.000000\n",
       "mean     4.177682   41.971963   12.658879\n",
       "std      3.310282    7.721084    2.285376\n",
       "min      0.128200   30.000000    5.000000\n",
       "25%      2.262600   35.000000   12.000000\n",
       "50%      3.481900   42.000000   12.000000\n",
       "75%      4.970750   47.250000   14.000000\n",
       "max     25.000000   60.000000   17.000000"
      ]
     },
     "execution_count": 6,
     "metadata": {},
     "output_type": "execute_result"
    }
   ],
   "source": [
    "#L’ensemble des femmes\n",
    "df2[['wage','age','educ']].describe()"
   ]
  },
  {
   "cell_type": "code",
   "execution_count": 7,
   "id": "6b1ec47d",
   "metadata": {},
   "outputs": [
    {
     "data": {
      "text/html": [
       "<div>\n",
       "<style scoped>\n",
       "    .dataframe tbody tr th:only-of-type {\n",
       "        vertical-align: middle;\n",
       "    }\n",
       "\n",
       "    .dataframe tbody tr th {\n",
       "        vertical-align: top;\n",
       "    }\n",
       "\n",
       "    .dataframe thead th {\n",
       "        text-align: right;\n",
       "    }\n",
       "</style>\n",
       "<table border=\"1\" class=\"dataframe\">\n",
       "  <thead>\n",
       "    <tr style=\"text-align: right;\">\n",
       "      <th></th>\n",
       "      <th>wage</th>\n",
       "      <th>age</th>\n",
       "      <th>educ</th>\n",
       "    </tr>\n",
       "  </thead>\n",
       "  <tbody>\n",
       "    <tr>\n",
       "      <th>count</th>\n",
       "      <td>214.000000</td>\n",
       "      <td>214.000000</td>\n",
       "      <td>214.000000</td>\n",
       "    </tr>\n",
       "    <tr>\n",
       "      <th>mean</th>\n",
       "      <td>4.896822</td>\n",
       "      <td>42.275701</td>\n",
       "      <td>13.242991</td>\n",
       "    </tr>\n",
       "    <tr>\n",
       "      <th>std</th>\n",
       "      <td>4.041606</td>\n",
       "      <td>7.388843</td>\n",
       "      <td>2.359045</td>\n",
       "    </tr>\n",
       "    <tr>\n",
       "      <th>min</th>\n",
       "      <td>0.161600</td>\n",
       "      <td>30.000000</td>\n",
       "      <td>5.000000</td>\n",
       "    </tr>\n",
       "    <tr>\n",
       "      <th>25%</th>\n",
       "      <td>2.513850</td>\n",
       "      <td>36.000000</td>\n",
       "      <td>12.000000</td>\n",
       "    </tr>\n",
       "    <tr>\n",
       "      <th>50%</th>\n",
       "      <td>3.846400</td>\n",
       "      <td>43.000000</td>\n",
       "      <td>12.000000</td>\n",
       "    </tr>\n",
       "    <tr>\n",
       "      <th>75%</th>\n",
       "      <td>5.854125</td>\n",
       "      <td>48.000000</td>\n",
       "      <td>16.000000</td>\n",
       "    </tr>\n",
       "    <tr>\n",
       "      <th>max</th>\n",
       "      <td>25.000000</td>\n",
       "      <td>59.000000</td>\n",
       "      <td>17.000000</td>\n",
       "    </tr>\n",
       "  </tbody>\n",
       "</table>\n",
       "</div>"
      ],
      "text/plain": [
       "             wage         age        educ\n",
       "count  214.000000  214.000000  214.000000\n",
       "mean     4.896822   42.275701   13.242991\n",
       "std      4.041606    7.388843    2.359045\n",
       "min      0.161600   30.000000    5.000000\n",
       "25%      2.513850   36.000000   12.000000\n",
       "50%      3.846400   43.000000   12.000000\n",
       "75%      5.854125   48.000000   16.000000\n",
       "max     25.000000   59.000000   17.000000"
      ]
     },
     "execution_count": 7,
     "metadata": {},
     "output_type": "execute_result"
    }
   ],
   "source": [
    "#Les femmes dont le salaire du mari est supérieur à la médiane de l’échantillon\n",
    "df2['huswage']=df2['huswage'].astype(float)\n",
    "Husb_income=np.sort(df2['huswage'])\n",
    "mediane_income=Husb_income[int(len(Husb_income)/2)]\n",
    "df2[df2['huswage'] >= mediane_income][['wage','age','educ',]].describe()"
   ]
  },
  {
   "cell_type": "code",
   "execution_count": 8,
   "id": "4256d2a0",
   "metadata": {},
   "outputs": [
    {
     "data": {
      "text/html": [
       "<div>\n",
       "<style scoped>\n",
       "    .dataframe tbody tr th:only-of-type {\n",
       "        vertical-align: middle;\n",
       "    }\n",
       "\n",
       "    .dataframe tbody tr th {\n",
       "        vertical-align: top;\n",
       "    }\n",
       "\n",
       "    .dataframe thead th {\n",
       "        text-align: right;\n",
       "    }\n",
       "</style>\n",
       "<table border=\"1\" class=\"dataframe\">\n",
       "  <thead>\n",
       "    <tr style=\"text-align: right;\">\n",
       "      <th></th>\n",
       "      <th>wage</th>\n",
       "      <th>age</th>\n",
       "      <th>educ</th>\n",
       "    </tr>\n",
       "  </thead>\n",
       "  <tbody>\n",
       "    <tr>\n",
       "      <th>count</th>\n",
       "      <td>214.000000</td>\n",
       "      <td>214.000000</td>\n",
       "      <td>214.000000</td>\n",
       "    </tr>\n",
       "    <tr>\n",
       "      <th>mean</th>\n",
       "      <td>3.458541</td>\n",
       "      <td>41.668224</td>\n",
       "      <td>12.074766</td>\n",
       "    </tr>\n",
       "    <tr>\n",
       "      <th>std</th>\n",
       "      <td>2.143274</td>\n",
       "      <td>8.045482</td>\n",
       "      <td>2.054200</td>\n",
       "    </tr>\n",
       "    <tr>\n",
       "      <th>min</th>\n",
       "      <td>0.128200</td>\n",
       "      <td>30.000000</td>\n",
       "      <td>6.000000</td>\n",
       "    </tr>\n",
       "    <tr>\n",
       "      <th>25%</th>\n",
       "      <td>2.117275</td>\n",
       "      <td>35.000000</td>\n",
       "      <td>12.000000</td>\n",
       "    </tr>\n",
       "    <tr>\n",
       "      <th>50%</th>\n",
       "      <td>2.971800</td>\n",
       "      <td>41.000000</td>\n",
       "      <td>12.000000</td>\n",
       "    </tr>\n",
       "    <tr>\n",
       "      <th>75%</th>\n",
       "      <td>4.393800</td>\n",
       "      <td>47.000000</td>\n",
       "      <td>12.000000</td>\n",
       "    </tr>\n",
       "    <tr>\n",
       "      <th>max</th>\n",
       "      <td>18.267000</td>\n",
       "      <td>60.000000</td>\n",
       "      <td>17.000000</td>\n",
       "    </tr>\n",
       "  </tbody>\n",
       "</table>\n",
       "</div>"
      ],
      "text/plain": [
       "             wage         age        educ\n",
       "count  214.000000  214.000000  214.000000\n",
       "mean     3.458541   41.668224   12.074766\n",
       "std      2.143274    8.045482    2.054200\n",
       "min      0.128200   30.000000    6.000000\n",
       "25%      2.117275   35.000000   12.000000\n",
       "50%      2.971800   41.000000   12.000000\n",
       "75%      4.393800   47.000000   12.000000\n",
       "max     18.267000   60.000000   17.000000"
      ]
     },
     "execution_count": 8,
     "metadata": {},
     "output_type": "execute_result"
    }
   ],
   "source": [
    "#les femmes dont le salaire du mari est inférieur à la médiane de l’échantillon\n",
    "df2[df2['huswage'] < mediane_income][['wage','age','educ']].describe()"
   ]
  },
  {
   "cell_type": "markdown",
   "id": "4e0d263e",
   "metadata": {},
   "source": [
    "## Question 3"
   ]
  },
  {
   "cell_type": "code",
   "execution_count": 9,
   "id": "1852f75a",
   "metadata": {},
   "outputs": [
    {
     "data": {
      "image/png": "[encoded data removed]",
      "text/plain": [
       "<Figure size 432x288 with 1 Axes>"
      ]
     },
     "metadata": {
      "needs_background": "light"
     },
     "output_type": "display_data"
    },
    {
     "data": {
      "image/png": "[encoded data removed]",
      "text/plain": [
       "<Figure size 432x288 with 1 Axes>"
      ]
     },
     "metadata": {
      "needs_background": "light"
     },
     "output_type": "display_data"
    }
   ],
   "source": [
    "plt.figure(1)\n",
    "plt.xlabel(\"wage\")\n",
    "plt.ylabel(\"Nombre de femmes\")\n",
    "plt.hist(wage, 'auto')\n",
    "\n",
    "plt.figure(2)\n",
    "plt.xlabel(\"log de wage\")\n",
    "plt.ylabel(\"Nombre de femmes\")\n",
    "plt.hist(np.log(wage), 'auto');"
   ]
  },
  {
   "cell_type": "markdown",
   "id": "b3ec4801",
   "metadata": {},
   "source": [
    "## Question 4"
   ]
  },
  {
   "cell_type": "code",
   "execution_count": 10,
   "id": "87dd70da",
   "metadata": {},
   "outputs": [
    {
     "name": "stdout",
     "output_type": "stream",
     "text": [
      "Correlation entre education du père et celle de la mère est:  0.5540632184311678\n"
     ]
    }
   ],
   "source": [
    "motheduc=df[14]\n",
    "fatheduc=df[15]\n",
    "corr=np.corrcoef(motheduc,fatheduc)\n",
    "print(\"Correlation entre education du père et celle de la mère est: \",corr[0][1])\n"
   ]
  },
  {
   "cell_type": "code",
   "execution_count": 11,
   "id": "de3e922c",
   "metadata": {},
   "outputs": [
    {
     "data": {
      "image/png": "[encoded data removed]",
      "text/plain": [
       "<Figure size 432x288 with 2 Axes>"
      ]
     },
     "metadata": {
      "needs_background": "light"
     },
     "output_type": "display_data"
    }
   ],
   "source": [
    "sns.heatmap(corr,annot=True,cmap=\"mako\")\n",
    "plt.xlabel('mothereduc | fathereduc')\n",
    "plt.ylabel('fathereduc | mothereduc')\n",
    "plt.title('Correlation entre education du père et celle de la mère')\n",
    "plt.show()\n",
    "\n",
    "# Correlation est de 0.554 plus grand que 0.5 --> Motheduc et Fatheduc sont en correlation \n",
    "# on ne doit pas les utiliser tous les deux comme variables explicatives"
   ]
  },
  {
   "cell_type": "markdown",
   "id": "a60086e0",
   "metadata": {},
   "source": [
    "## Question 5"
   ]
  },
  {
   "cell_type": "code",
   "execution_count": 12,
   "id": "ca49a683",
   "metadata": {
    "scrolled": false
   },
   "outputs": [
    {
     "name": "stdout",
     "output_type": "stream",
     "text": [
      "Correlation entre le salaire et le niveau d'éducation est:  0.3419544341781356\n"
     ]
    },
    {
     "data": {
      "image/png": "[encoded data removed]",
      "text/plain": [
       "<Figure size 432x288 with 2 Axes>"
      ]
     },
     "metadata": {
      "needs_background": "light"
     },
     "output_type": "display_data"
    },
    {
     "data": {
      "image/png": "[encoded data removed]",
      "text/plain": [
       "<Figure size 432x288 with 1 Axes>"
      ]
     },
     "metadata": {
      "needs_background": "light"
     },
     "output_type": "display_data"
    },
    {
     "name": "stdout",
     "output_type": "stream",
     "text": [
      "--------------------------------------------------------------------\n",
      "Correlation entre le salaire et l'éxpérience est:  0.05499149636893512\n"
     ]
    },
    {
     "data": {
      "image/png": "[encoded data removed]",
      "text/plain": [
       "<Figure size 432x288 with 2 Axes>"
      ]
     },
     "metadata": {
      "needs_background": "light"
     },
     "output_type": "display_data"
    },
    {
     "data": {
      "image/png": "[encoded data removed]",
      "text/plain": [
       "<Figure size 432x288 with 1 Axes>"
      ]
     },
     "metadata": {
      "needs_background": "light"
     },
     "output_type": "display_data"
    },
    {
     "name": "stdout",
     "output_type": "stream",
     "text": [
      "--------------------------------------------------------------------\n",
      "Correlation entre le salaire et l'éducation du père est:  0.10773624582184282\n"
     ]
    },
    {
     "data": {
      "image/png": "[encoded data removed]",
      "text/plain": [
       "<Figure size 432x288 with 2 Axes>"
      ]
     },
     "metadata": {
      "needs_background": "light"
     },
     "output_type": "display_data"
    },
    {
     "data": {
      "image/png": "[encoded data removed]",
      "text/plain": [
       "<Figure size 432x288 with 1 Axes>"
      ]
     },
     "metadata": {
      "needs_background": "light"
     },
     "output_type": "display_data"
    }
   ],
   "source": [
    "exper=df[18]\n",
    "\n",
    "corr=np.corrcoef(wage,educ)\n",
    "print(\"Correlation entre le salaire et le niveau d'éducation est: \",corr[0][1])\n",
    "sns.heatmap(corr,annot=True,cmap=plt.cm.Purples)\n",
    "plt.xlabel('Salaire |   Education')\n",
    "plt.ylabel('Education |   Salaire')\n",
    "plt.title(\"Correlation entre le salaire et le niveau d'éducation\")\n",
    "\n",
    "fig, ax = plt.subplots()\n",
    "plt.xlabel(\"Année d'éducation\")\n",
    "plt.ylabel('Salaire')\n",
    "\n",
    "_ = ax.scatter(educ, wage)\n",
    "s = np.polyfit(educ, wage, 1)\n",
    "p = np.poly1d(s)\n",
    "plt.plot(educ, p(educ), \"r-o\")\n",
    "plt.show()\n",
    "print(\"--------------------------------------------------------------------\")\n",
    "\n",
    "corr=np.corrcoef(exper,wage)\n",
    "print(\"Correlation entre le salaire et l'éxpérience est: \",corr[0][1])\n",
    "sns.heatmap(corr,annot=True,cmap=plt.cm.Purples)\n",
    "plt.xlabel('  Experience |  Salaire')\n",
    "plt.ylabel('Salaire |   Experience')\n",
    "plt.title(\"Correlation entre le salaire et l'éxpérience\")\n",
    "\n",
    "fig, ax = plt.subplots()\n",
    "plt.xlabel(\"Année d'éducation\")\n",
    "plt.ylabel('Salaire')\n",
    "_ = ax.scatter(exper, wage)\n",
    "s = np.polyfit(exper, wage, 1)\n",
    "p = np.poly1d(s)\n",
    "plt.plot(exper, p(exper), \"r-o\")\n",
    "plt.show()\n",
    "print(\"--------------------------------------------------------------------\")\n",
    "\n",
    "correlation=np.corrcoef(wage,fatheduc)\n",
    "print(\"Correlation entre le salaire et l'éducation du père est: \",correlation[0][1])\n",
    "sns.heatmap(correlation,annot=True,cmap=plt.cm.Purples)\n",
    "plt.xlabel('  Salaire |  Education du père')\n",
    "plt.ylabel('Education du père |  Salaire')\n",
    "plt.title(\"Correlation entre le salaire et l'éducation du père\")\n",
    "\n",
    "fig, ax = plt.subplots()\n",
    "plt.xlabel(\"Années d'éducation du père\")\n",
    "plt.ylabel('Salaire')\n",
    "_ = ax.scatter(fatheduc, wage)\n",
    "s = np.polyfit(fatheduc, wage, 1)\n",
    "p = np.poly1d(s)\n",
    "plt.plot(fatheduc, p(fatheduc), \"r-o\")\n",
    "\n",
    "plt.show()"
   ]
  },
  {
   "cell_type": "markdown",
   "id": "97f1be3e",
   "metadata": {},
   "source": [
    "## Question 6\n",
    "### The solution is in the report"
   ]
  },
  {
   "cell_type": "markdown",
   "id": "9b7068cb",
   "metadata": {},
   "source": [
    "## Question 7"
   ]
  },
  {
   "cell_type": "code",
   "execution_count": 13,
   "id": "ebc58d1a",
   "metadata": {},
   "outputs": [
    {
     "name": "stdout",
     "output_type": "stream",
     "text": [
      "                            OLS Regression Results                            \n",
      "==============================================================================\n",
      "Dep. Variable:                      6   R-squared:                       0.127\n",
      "Model:                            OLS   Adj. R-squared:                  0.115\n",
      "Method:                 Least Squares   F-statistic:                     10.23\n",
      "Date:                Fri, 09 Dec 2022   Prob (F-statistic):           1.41e-10\n",
      "Time:                        13:19:29   Log-Likelihood:                -1090.0\n",
      "No. Observations:                 428   AIC:                             2194.\n",
      "Df Residuals:                     421   BIC:                             2222.\n",
      "Df Model:                           6                                         \n",
      "Covariance Type:            nonrobust                                         \n",
      "==============================================================================\n",
      "                 coef    std err          t      P>|t|      [0.025      0.975]\n",
      "------------------------------------------------------------------------------\n",
      "const         -2.4035      0.963     -2.495      0.013      -4.297      -0.510\n",
      "x1             0.3698      0.327      1.132      0.258      -0.272       1.012\n",
      "x2             0.4600      0.070      6.546      0.000       0.322       0.598\n",
      "x3             0.0238      0.021      1.141      0.255      -0.017       0.065\n",
      "x4             0.0152      0.015      0.984      0.326      -0.015       0.046\n",
      "x5             0.0362      0.397      0.091      0.927      -0.744       0.816\n",
      "x6            -0.0619      0.125     -0.494      0.622      -0.308       0.185\n",
      "==============================================================================\n",
      "Omnibus:                      345.825   Durbin-Watson:                   2.056\n",
      "Prob(Omnibus):                  0.000   Jarque-Bera (JB):             6499.375\n",
      "Skew:                           3.389   Prob(JB):                         0.00\n",
      "Kurtosis:                      20.847   Cond. No.                         178.\n",
      "==============================================================================\n",
      "\n",
      "Notes:\n",
      "[1] Standard Errors assume that the covariance matrix of the errors is correctly specified.\n"
     ]
    },
    {
     "data": {
      "image/png": "[encoded data removed]",
      "text/plain": [
       "<Figure size 432x288 with 1 Axes>"
      ]
     },
     "metadata": {
      "needs_background": "light"
     },
     "output_type": "display_data"
    }
   ],
   "source": [
    "city=df[17]\n",
    "nwifeinc=df[19]\n",
    "k=np.shape(wage)\n",
    "const=np.ones(k)\n",
    "\n",
    "y=wage\n",
    "X=np.column_stack((const,city,educ,exper,nwifeinc,kidslt6,kidsgt6))\n",
    "model=sm.OLS(y,X)\n",
    "results=model.fit()\n",
    "print(results.summary())\n",
    "u=results.resid\n",
    "plt.xlabel(\"Residues\")\n",
    "plt.ylabel(\"Histogram of Residues\")\n",
    "plt.hist(u,bins='auto')\n",
    "plt.show;"
   ]
  },
  {
   "cell_type": "markdown",
   "id": "0130584f",
   "metadata": {},
   "source": [
    "## Question 8"
   ]
  },
  {
   "cell_type": "code",
   "execution_count": 14,
   "id": "7180369f",
   "metadata": {},
   "outputs": [
    {
     "name": "stdout",
     "output_type": "stream",
     "text": [
      "                            OLS Regression Results                            \n",
      "==============================================================================\n",
      "Dep. Variable:                      6   R-squared:                       0.156\n",
      "Model:                            OLS   Adj. R-squared:                  0.144\n",
      "Method:                 Least Squares   F-statistic:                     12.92\n",
      "Date:                Fri, 09 Dec 2022   Prob (F-statistic):           2.00e-13\n",
      "Time:                        13:19:29   Log-Likelihood:                -431.92\n",
      "No. Observations:                 428   AIC:                             877.8\n",
      "Df Residuals:                     421   BIC:                             906.3\n",
      "Df Model:                           6                                         \n",
      "Covariance Type:            nonrobust                                         \n",
      "==============================================================================\n",
      "                 coef    std err          t      P>|t|      [0.025      0.975]\n",
      "------------------------------------------------------------------------------\n",
      "const         -0.3990      0.207     -1.927      0.055      -0.806       0.008\n",
      "x1             0.0353      0.070      0.503      0.616      -0.103       0.173\n",
      "x2             0.1022      0.015      6.771      0.000       0.073       0.132\n",
      "x3             0.0155      0.004      3.452      0.001       0.007       0.024\n",
      "x4             0.0049      0.003      1.466      0.143      -0.002       0.011\n",
      "x5            -0.0453      0.085     -0.531      0.596      -0.213       0.122\n",
      "x6            -0.0117      0.027     -0.434      0.664      -0.065       0.041\n",
      "==============================================================================\n",
      "Omnibus:                       79.542   Durbin-Watson:                   1.979\n",
      "Prob(Omnibus):                  0.000   Jarque-Bera (JB):              287.193\n",
      "Skew:                          -0.795   Prob(JB):                     4.33e-63\n",
      "Kurtosis:                       6.685   Cond. No.                         178.\n",
      "==============================================================================\n",
      "\n",
      "Notes:\n",
      "[1] Standard Errors assume that the covariance matrix of the errors is correctly specified.\n"
     ]
    },
    {
     "data": {
      "image/png": "[encoded data removed]",
      "text/plain": [
       "<Figure size 432x288 with 1 Axes>"
      ]
     },
     "metadata": {
      "needs_background": "light"
     },
     "output_type": "display_data"
    }
   ],
   "source": [
    "k=np.shape(wage)\n",
    "const=np.ones(k)\n",
    "\n",
    "y=np.log(wage)\n",
    "X=np.column_stack((const,city,educ,exper,nwifeinc,kidslt6,kidsgt6))\n",
    "model=sm.OLS(y,X)\n",
    "results=model.fit()\n",
    "print(results.summary())\n",
    "u=results.resid\n",
    "plt.xlabel(\"Residues\")\n",
    "plt.ylabel(\"Histogram of Residues\")\n",
    "plt.hist(u,bins='auto')\n",
    "plt.show;"
   ]
  },
  {
   "cell_type": "markdown",
   "id": "9037c110",
   "metadata": {},
   "source": [
    "## Question 9"
   ]
  },
  {
   "cell_type": "code",
   "execution_count": 15,
   "id": "52ba3b08",
   "metadata": {},
   "outputs": [
    {
     "name": "stdout",
     "output_type": "stream",
     "text": [
      "threshold 1  %\n",
      "critical threshold 2.3352378938061142\n",
      "p value= 0.14340791214517742\n",
      "student value 1.465951741624178\n",
      "0.01 < 0.1434 we accept the hypothesis \n",
      "\n",
      "threshold 5  %\n",
      "critical threshold 1.6484810571255268\n",
      "p value= 0.14340791214517742\n",
      "student value 1.465951741624178\n",
      "0.05 < 0.1434 we accept the hypothesis \n",
      "\n",
      "threshold 10  %\n",
      "critical threshold 1.2835656801791953\n",
      "p value= 0.14340791214517742\n",
      "student value 1.465951741624178\n",
      "0.1 < 0.1434 we accept the hypothesis \n",
      "\n"
     ]
    }
   ],
   "source": [
    "beta = np.linalg.inv(X.T @ X)@X.T@y\n",
    "u=y-X@beta\n",
    "n,k=np.shape(X)\n",
    "sig2=u.T@u/(n-k)\n",
    "Var=sig2*np.linalg.inv(X.T @ X)\n",
    "std=np.sqrt(np.diag(Var))\n",
    "t_nwifeinc=(beta[4])/std[4]\n",
    "\n",
    "thresholds_sig=[0.01,0.05,0.1]\n",
    "for threshold_sig in thresholds_sig:\n",
    "    print('threshold',round(threshold_sig*100),' %')\n",
    "    print(\"critical threshold\",t.ppf(1-threshold_sig,n-k))\n",
    "    pvalue=2*(t.sf(t_nwifeinc,n-k))\n",
    "    print(\"p value=\",pvalue)\n",
    "    print(\"student value\",t_nwifeinc)\n",
    "    if threshold_sig>pvalue:\n",
    "        print  (threshold_sig,'>',round(pvalue,4), \"we reject the hypothesis \\n\")\n",
    "    else:\n",
    "        print  (threshold_sig,'<',round(pvalue,4), \"we accept the hypothesis \\n\")\n"
   ]
  },
  {
   "cell_type": "markdown",
   "id": "dd58830e",
   "metadata": {},
   "source": [
    "## Question 10"
   ]
  },
  {
   "cell_type": "code",
   "execution_count": 16,
   "id": "a3f7a692",
   "metadata": {},
   "outputs": [
    {
     "name": "stdout",
     "output_type": "stream",
     "text": [
      "t value -1.5363887846744726\n",
      "p-value 0.12519423515110772\n"
     ]
    }
   ],
   "source": [
    "degree_free = X.shape[0] - 7\n",
    "beta_nwifeinc = beta[4]\n",
    "std_nwifeinc = std[4]\n",
    "student_nwifeinc = (beta_nwifeinc - 0.01) / std_nwifeinc\n",
    "print('t value',student_nwifeinc)\n",
    "print('p-value '+str(2 * (1 - t.sf(student_nwifeinc, degree_free))))\n",
    "\n",
    "#2.5% < p= 12.5% --> we accept the hypothesis"
   ]
  },
  {
   "cell_type": "markdown",
   "id": "0a8101bf",
   "metadata": {},
   "source": [
    "## Question 11"
   ]
  },
  {
   "cell_type": "code",
   "execution_count": 17,
   "id": "3e00f84c",
   "metadata": {},
   "outputs": [
    {
     "name": "stdout",
     "output_type": "stream",
     "text": [
      "SSR0 = 188.589973\n",
      "SSR1 = 189.787874\n",
      "F = 1.337070\n",
      "columns in X0 7\n",
      "p-value for fisher: 0.263727\n",
      "\n",
      "We get p-value > 5% thus we accept the null hypothesis\n"
     ]
    }
   ],
   "source": [
    "X0 = X\n",
    "u = u\n",
    "SSR0 = u.T @ u\n",
    "print('SSR0 = %f' % SSR0)\n",
    "y = np.log(wage)\n",
    "y = y - 0.01 * nwifeinc - 0.05 * city\n",
    "s = np.shape(wage)\n",
    "const = np.ones(s)\n",
    "X = np.column_stack((const, educ, exper, kidslt6, kidsgt6))\n",
    "\n",
    "model = sm.OLS(y, X)\n",
    "results = model.fit()\n",
    "u = results.resid\n",
    "SSR1 = u.T @ u\n",
    "print('SSR1 = %f' % SSR1)\n",
    "\n",
    "n, k = np.shape(X0)\n",
    "F = ((SSR1 - SSR0) / 2) / (SSR0 / (n - k))\n",
    "print('F = %f' % F)\n",
    "print('columns in X0',k)\n",
    "fisher_pval = f.sf(F, 2, n - k)\n",
    "print('p-value for fisher: %f\\n' % fisher_pval)\n",
    "print('We get p-value > 5% thus we accept the null hypothesis')\n"
   ]
  },
  {
   "cell_type": "markdown",
   "id": "1f796ae9",
   "metadata": {},
   "source": [
    "## Question 12"
   ]
  },
  {
   "cell_type": "code",
   "execution_count": 18,
   "id": "2956f33c",
   "metadata": {},
   "outputs": [
    {
     "data": {
      "image/png": "[encoded data removed]",
      "text/plain": [
       "<Figure size 432x288 with 1 Axes>"
      ]
     },
     "metadata": {
      "needs_background": "light"
     },
     "output_type": "display_data"
    },
    {
     "data": {
      "image/png": "[encoded data removed]",
      "text/plain": [
       "<Figure size 432x288 with 1 Axes>"
      ]
     },
     "metadata": {
      "needs_background": "light"
     },
     "output_type": "display_data"
    },
    {
     "data": {
      "image/png": "[encoded data removed]",
      "text/plain": [
       "<Figure size 432x288 with 1 Axes>"
      ]
     },
     "metadata": {
      "needs_background": "light"
     },
     "output_type": "display_data"
    },
    {
     "data": {
      "image/png": "[encoded data removed]",
      "text/plain": [
       "<Figure size 432x288 with 1 Axes>"
      ]
     },
     "metadata": {
      "needs_background": "light"
     },
     "output_type": "display_data"
    }
   ],
   "source": [
    "new=np.column_stack((wage,educ,exper))\n",
    "sns.lineplot(educ,wage)\n",
    "plt.xlabel(\"Education\")\n",
    "plt.ylabel(\"Salaire\")\n",
    "plt.title(\"Augmentation du salaire avec le nombre d'année d'éducation\")\n",
    "plt.show()\n",
    "\n",
    "fig, ax = plt.subplots()\n",
    "plt.xlabel('Année d éducation')\n",
    "plt.ylabel('Salaire')\n",
    "\n",
    "_ = ax.scatter(educ, wage)\n",
    "z = np.polyfit(educ, wage, 1)\n",
    "p = np.poly1d(z)\n",
    "plt.plot(educ, p(educ), \"r-o\")\n",
    "plt.show()\n",
    "\n",
    "sns.lineplot(exper+educ,wage)\n",
    "plt.xlabel(\"Experience\")\n",
    "plt.ylabel(\"Salaire\")\n",
    "plt.title(\"Augmentation du salaire avec le nombre d'année d'experience\")\n",
    "plt.show()\n",
    "\n",
    "\n",
    "fig, ax = plt.subplots()\n",
    "plt.xlabel('Experience')\n",
    "plt.ylabel('Salaire')\n",
    "_ = ax.scatter(exper, wage)\n",
    "z = np.polyfit(exper, wage, 1)\n",
    "p = np.poly1d(z)\n",
    "plt.plot(exper, p(exper), \"r-o\")\n",
    "plt.show()"
   ]
  },
  {
   "cell_type": "markdown",
   "id": "1237714c",
   "metadata": {},
   "source": [
    "## Question 13"
   ]
  },
  {
   "cell_type": "code",
   "execution_count": 19,
   "id": "0f57efe2",
   "metadata": {},
   "outputs": [
    {
     "name": "stdout",
     "output_type": "stream",
     "text": [
      "                            OLS Regression Results                            \n",
      "==============================================================================\n",
      "Dep. Variable:                      6   R-squared:                       0.156\n",
      "Model:                            OLS   Adj. R-squared:                  0.144\n",
      "Method:                 Least Squares   F-statistic:                     12.92\n",
      "Date:                Fri, 09 Dec 2022   Prob (F-statistic):           2.00e-13\n",
      "Time:                        13:19:31   Log-Likelihood:                -431.92\n",
      "No. Observations:                 428   AIC:                             877.8\n",
      "Df Residuals:                     421   BIC:                             906.3\n",
      "Df Model:                           6                                         \n",
      "Covariance Type:            nonrobust                                         \n",
      "==============================================================================\n",
      "                 coef    std err          t      P>|t|      [0.025      0.975]\n",
      "------------------------------------------------------------------------------\n",
      "const         -0.3990      0.207     -1.927      0.055      -0.806       0.008\n",
      "x1             0.0353      0.070      0.503      0.616      -0.103       0.173\n",
      "x2             0.1022      0.015      6.771      0.000       0.073       0.132\n",
      "x3             0.0155      0.004      3.452      0.001       0.007       0.024\n",
      "x4             0.0049      0.003      1.466      0.143      -0.002       0.011\n",
      "x5            -0.0336      0.090     -0.372      0.710      -0.211       0.144\n",
      "x6            -0.0117      0.027     -0.434      0.664      -0.065       0.041\n",
      "==============================================================================\n",
      "Omnibus:                       79.542   Durbin-Watson:                   1.979\n",
      "Prob(Omnibus):                  0.000   Jarque-Bera (JB):              287.193\n",
      "Skew:                          -0.795   Prob(JB):                     4.33e-63\n",
      "Kurtosis:                       6.685   Cond. No.                         178.\n",
      "==============================================================================\n",
      "\n",
      "Notes:\n",
      "[1] Standard Errors assume that the covariance matrix of the errors is correctly specified.\n",
      "We get p-value: 0.710268, > 0.05 we accept the hypothesis\n"
     ]
    }
   ],
   "source": [
    "y = np.log(wage)\n",
    "s = np.shape(wage)\n",
    "const = np.ones(s)\n",
    "X = np.column_stack((const, city, educ, exper, nwifeinc, kidslt6, kidslt6 + kidsgt6))\n",
    "\n",
    "model = sm.OLS(y, X)\n",
    "results = model.fit()\n",
    "print(results.summary())\n",
    "print('We get p-value: %f, > 0.05 we accept the hypothesis' % (results.pvalues[5]))"
   ]
  },
  {
   "cell_type": "markdown",
   "id": "e8d2582e",
   "metadata": {},
   "source": [
    "## Question 14"
   ]
  },
  {
   "cell_type": "code",
   "execution_count": 20,
   "id": "efca5be5",
   "metadata": {},
   "outputs": [
    {
     "name": "stdout",
     "output_type": "stream",
     "text": [
      "                            OLS Regression Results                            \n",
      "==============================================================================\n",
      "Dep. Variable:                      y   R-squared:                       0.022\n",
      "Model:                            OLS   Adj. R-squared:                  0.008\n",
      "Method:                 Least Squares   F-statistic:                     1.593\n",
      "Date:                Fri, 09 Dec 2022   Prob (F-statistic):              0.148\n",
      "Time:                        13:19:31   Log-Likelihood:                -2207.4\n",
      "No. Observations:                 428   AIC:                             4429.\n",
      "Df Residuals:                     421   BIC:                             4457.\n",
      "Df Model:                           6                                         \n",
      "Covariance Type:            nonrobust                                         \n",
      "==============================================================================\n",
      "                 coef    std err          t      P>|t|      [0.025      0.975]\n",
      "------------------------------------------------------------------------------\n",
      "const          1.4856     13.111      0.113      0.910     -24.285      27.256\n",
      "x1             5.9644      4.444      1.342      0.180      -2.770      14.699\n",
      "x2             0.8077      0.956      0.845      0.399      -1.072       2.687\n",
      "x3            -0.5341      0.284     -1.880      0.061      -1.093       0.024\n",
      "x4             0.0435      0.211      0.206      0.837      -0.371       0.458\n",
      "x5             4.9573      5.402      0.918      0.359      -5.661      15.575\n",
      "x6            -0.4018      1.706     -0.236      0.814      -3.756       2.952\n",
      "==============================================================================\n",
      "Omnibus:                      638.793   Durbin-Watson:                   2.029\n",
      "Prob(Omnibus):                  0.000   Jarque-Bera (JB):            96122.227\n",
      "Skew:                           8.127   Prob(JB):                         0.00\n",
      "Kurtosis:                      74.595   Cond. No.                         178.\n",
      "==============================================================================\n",
      "\n",
      "Notes:\n",
      "[1] Standard Errors assume that the covariance matrix of the errors is correctly specified.\n"
     ]
    }
   ],
   "source": [
    "y = wage\n",
    "s = np.shape(wage)\n",
    "const = np.ones(s)\n",
    "X = np.column_stack((const, city, educ, exper, nwifeinc, kidslt6, kidsgt6))\n",
    "\n",
    "model = sm.OLS(y, X)\n",
    "results = model.fit()\n",
    "u = results.resid\n",
    "u2 = u ** 2\n",
    "y = u2\n",
    "model = sm.OLS(y, X)\n",
    "results = model.fit()\n",
    "print(results.summary())"
   ]
  },
  {
   "cell_type": "markdown",
   "id": "471d0a3c",
   "metadata": {},
   "source": [
    "## Question 15"
   ]
  },
  {
   "cell_type": "code",
   "execution_count": 21,
   "id": "264cc58c",
   "metadata": {},
   "outputs": [
    {
     "name": "stdout",
     "output_type": "stream",
     "text": [
      "f-stat: 0.8260377871071876\n",
      "p-value: 0.5660361961109925\n"
     ]
    }
   ],
   "source": [
    "X = sm.add_constant(df[[17, 5, 18, 19, 2, 3]])\n",
    "y = np.log(df[6])\n",
    "n, p = X.shape\n",
    "\n",
    "model = sm.OLS(y, X)\n",
    "results = model.fit()\n",
    "\n",
    "SSE_c = np.sum(results.resid**2)\n",
    "\n",
    "X = sm.add_constant(df.loc[df[4] <= 43, [17, 5, 18, 19, 2, 3]])\n",
    "y = np.log(df.loc[df[4] <= 43, 6])\n",
    "\n",
    "model = sm.OLS(y, X, hasconst=True)\n",
    "results = model.fit()\n",
    "\n",
    "SSE1 = np.sum(results.resid**2)\n",
    "\n",
    "X = sm.add_constant(df.loc[df[4] > 43, [17, 5, 18, 19, 2, 3]])\n",
    "y = np.log(df.loc[df[4] > 43, 6])\n",
    "\n",
    "model = sm.OLS(y, X, hasconst=True)\n",
    "results = model.fit()\n",
    "\n",
    "SSE2 = np.sum(results.resid**2)\n",
    "f_stat = ((SSE_c-(SSE1+SSE2)) / p)  / ((SSE1+SSE2)/(n-2*p))\n",
    "p_value = f.sf(f_stat, p, n-2*p)       \n",
    "\n",
    "print(\"f-stat: \"+str(f_stat))\n",
    "print(\"p-value: \"+str(p_value))"
   ]
  },
  {
   "cell_type": "markdown",
   "id": "a96efcca",
   "metadata": {},
   "source": [
    "## Question 16"
   ]
  },
  {
   "cell_type": "code",
   "execution_count": 22,
   "id": "a701fd47",
   "metadata": {},
   "outputs": [
    {
     "name": "stdout",
     "output_type": "stream",
     "text": [
      "SSR_c pour le modele sans separation en fonction de l'age est:  190.19498274773724\n"
     ]
    }
   ],
   "source": [
    "X = sm.add_constant(df[[5, 18]])\n",
    "y = np.log(df[6])\n",
    "n, p = X.shape\n",
    "\n",
    "model = sm.OLS(y, X)\n",
    "results = model.fit()\n",
    "\n",
    "SSR_c = np.sum(results.resid**2)\n",
    "print(\"SSR_c pour le modele sans separation en fonction de l'age est: \",SSR_c)"
   ]
  },
  {
   "cell_type": "code",
   "execution_count": 23,
   "id": "9a9373c7",
   "metadata": {},
   "outputs": [
    {
     "name": "stdout",
     "output_type": "stream",
     "text": [
      "SSR1 pour le modele pour les femmess ayant moins que 43 ans est:  105.48833027982494\n"
     ]
    }
   ],
   "source": [
    "X = sm.add_constant(df.loc[df[4] < 43, [5, 18]])\n",
    "y = df.loc[df[4] < 43]\n",
    "y1 = np.log(df[6])\n",
    "y.insert(1,\"lwage\",y1)\n",
    "y =y.loc[df[4] < 43, 'lwage']\n",
    "\n",
    "model = sm.OLS(y, X, hasconst=True)\n",
    "results = model.fit()\n",
    "\n",
    "SSR1 = np.sum(results.resid**2)\n",
    "print('SSR1 pour le modele pour les femmess ayant moins que 43 ans est: ',SSR1)"
   ]
  },
  {
   "cell_type": "code",
   "execution_count": 24,
   "id": "c4d4687d",
   "metadata": {},
   "outputs": [
    {
     "name": "stdout",
     "output_type": "stream",
     "text": [
      "SSR2 pour le modele pour les femmes ayant plus que 43 ans est:  81.98006667450232\n"
     ]
    }
   ],
   "source": [
    "X = sm.add_constant(df.loc[df[4] >= 43, [5, 18]])\n",
    "y = df.loc[df[4] >= 43]\n",
    "y1 = np.log(df[6])\n",
    "y.insert(1,\"lwage\",y1)\n",
    "y =y.loc[df[4] >= 43, 'lwage']\n",
    "\n",
    "model = sm.OLS(y, X, hasconst=True)\n",
    "results = model.fit()\n",
    "\n",
    "SSR2 = np.sum(results.resid**2)\n",
    "print('SSR2 pour le modele pour les femmes ayant plus que 43 ans est: ',SSR2)"
   ]
  },
  {
   "cell_type": "code",
   "execution_count": 25,
   "id": "b245a157",
   "metadata": {},
   "outputs": [
    {
     "name": "stdout",
     "output_type": "stream",
     "text": [
      "f_stat is  2.045890086920155 and p_value is  0.10681389474947503\n"
     ]
    }
   ],
   "source": [
    "f_stat = ((SSR_c-(SSR1+SSR2)) / p)  / ((SSR1+SSR2)/(n-2*p))\n",
    "p_value = f.sf(f_stat, p, n-2*p)   \n",
    "\n",
    "print('f_stat is ',f_stat,'and p_value is ',p_value)  \n"
   ]
  },
  {
   "cell_type": "markdown",
   "id": "d2c14f2d",
   "metadata": {},
   "source": [
    "# <font color=\"#ff0000\">Part 2 - Séries temporelles</font>"
   ]
  },
  {
   "cell_type": "code",
   "execution_count": 26,
   "id": "0f9fc2ce",
   "metadata": {},
   "outputs": [],
   "source": [
    "import numpy as np\n",
    "import pandas as pd\n",
    "import matplotlib.pyplot as plt \n",
    "import matplotlib.ticker as mticker\n",
    "import statsmodels.graphics.tsaplots as st\n",
    "import statsmodels.tsa as stat\n",
    "import statsmodels.api as sm\n",
    "from scipy.stats import f as fdist"
   ]
  },
  {
   "cell_type": "markdown",
   "id": "ef3ee6ed",
   "metadata": {},
   "source": [
    "## Question 1"
   ]
  },
  {
   "cell_type": "code",
   "execution_count": 27,
   "id": "a3381988",
   "metadata": {},
   "outputs": [
    {
     "data": {
      "text/html": [
       "<div>\n",
       "<style scoped>\n",
       "    .dataframe tbody tr th:only-of-type {\n",
       "        vertical-align: middle;\n",
       "    }\n",
       "\n",
       "    .dataframe tbody tr th {\n",
       "        vertical-align: top;\n",
       "    }\n",
       "\n",
       "    .dataframe thead th {\n",
       "        text-align: right;\n",
       "    }\n",
       "</style>\n",
       "<table border=\"1\" class=\"dataframe\">\n",
       "  <thead>\n",
       "    <tr style=\"text-align: right;\">\n",
       "      <th></th>\n",
       "      <th>DATE</th>\n",
       "      <th>FFR</th>\n",
       "      <th>Tbill</th>\n",
       "      <th>Tb1yr</th>\n",
       "      <th>r5</th>\n",
       "      <th>r10</th>\n",
       "      <th>PPINSA</th>\n",
       "      <th>Finished</th>\n",
       "      <th>CPI</th>\n",
       "      <th>CPICORE</th>\n",
       "      <th>M1NSA</th>\n",
       "      <th>M2SA</th>\n",
       "      <th>M2NSA</th>\n",
       "      <th>Unemp</th>\n",
       "      <th>IndProd</th>\n",
       "      <th>RGDP</th>\n",
       "      <th>Potent</th>\n",
       "      <th>Deflator</th>\n",
       "      <th>Curr</th>\n",
       "    </tr>\n",
       "  </thead>\n",
       "  <tbody>\n",
       "    <tr>\n",
       "      <th>0</th>\n",
       "      <td>1960Q1</td>\n",
       "      <td>3.93</td>\n",
       "      <td>3.87</td>\n",
       "      <td>4.57</td>\n",
       "      <td>4.64</td>\n",
       "      <td>4.49</td>\n",
       "      <td>31.67</td>\n",
       "      <td>33.20</td>\n",
       "      <td>29.40</td>\n",
       "      <td>18.92</td>\n",
       "      <td>140.53</td>\n",
       "      <td>896.1</td>\n",
       "      <td>299.40</td>\n",
       "      <td>5.13</td>\n",
       "      <td>23.93</td>\n",
       "      <td>2845.3</td>\n",
       "      <td>2824.2</td>\n",
       "      <td>18.521</td>\n",
       "      <td>31.830</td>\n",
       "    </tr>\n",
       "    <tr>\n",
       "      <th>1</th>\n",
       "      <td>1960Q2</td>\n",
       "      <td>3.70</td>\n",
       "      <td>2.99</td>\n",
       "      <td>3.87</td>\n",
       "      <td>4.30</td>\n",
       "      <td>4.26</td>\n",
       "      <td>31.73</td>\n",
       "      <td>33.40</td>\n",
       "      <td>29.57</td>\n",
       "      <td>19.00</td>\n",
       "      <td>138.40</td>\n",
       "      <td>903.3</td>\n",
       "      <td>300.03</td>\n",
       "      <td>5.23</td>\n",
       "      <td>23.41</td>\n",
       "      <td>2832.0</td>\n",
       "      <td>2851.2</td>\n",
       "      <td>18.579</td>\n",
       "      <td>31.862</td>\n",
       "    </tr>\n",
       "    <tr>\n",
       "      <th>2</th>\n",
       "      <td>1960Q3</td>\n",
       "      <td>2.94</td>\n",
       "      <td>2.36</td>\n",
       "      <td>3.07</td>\n",
       "      <td>3.67</td>\n",
       "      <td>3.83</td>\n",
       "      <td>31.63</td>\n",
       "      <td>33.43</td>\n",
       "      <td>29.59</td>\n",
       "      <td>19.07</td>\n",
       "      <td>139.60</td>\n",
       "      <td>919.4</td>\n",
       "      <td>305.50</td>\n",
       "      <td>5.53</td>\n",
       "      <td>23.02</td>\n",
       "      <td>2836.6</td>\n",
       "      <td>2878.7</td>\n",
       "      <td>18.648</td>\n",
       "      <td>32.217</td>\n",
       "    </tr>\n",
       "    <tr>\n",
       "      <th>3</th>\n",
       "      <td>1960Q4</td>\n",
       "      <td>2.30</td>\n",
       "      <td>2.31</td>\n",
       "      <td>2.99</td>\n",
       "      <td>3.75</td>\n",
       "      <td>3.89</td>\n",
       "      <td>31.70</td>\n",
       "      <td>33.67</td>\n",
       "      <td>29.78</td>\n",
       "      <td>19.14</td>\n",
       "      <td>142.67</td>\n",
       "      <td>932.8</td>\n",
       "      <td>312.30</td>\n",
       "      <td>6.27</td>\n",
       "      <td>22.47</td>\n",
       "      <td>2800.2</td>\n",
       "      <td>2906.7</td>\n",
       "      <td>18.700</td>\n",
       "      <td>32.624</td>\n",
       "    </tr>\n",
       "    <tr>\n",
       "      <th>4</th>\n",
       "      <td>1961Q1</td>\n",
       "      <td>2.00</td>\n",
       "      <td>2.35</td>\n",
       "      <td>2.87</td>\n",
       "      <td>3.64</td>\n",
       "      <td>3.79</td>\n",
       "      <td>31.80</td>\n",
       "      <td>33.63</td>\n",
       "      <td>29.84</td>\n",
       "      <td>19.17</td>\n",
       "      <td>142.23</td>\n",
       "      <td>948.9</td>\n",
       "      <td>317.10</td>\n",
       "      <td>6.80</td>\n",
       "      <td>22.13</td>\n",
       "      <td>2816.9</td>\n",
       "      <td>2934.8</td>\n",
       "      <td>18.743</td>\n",
       "      <td>32.073</td>\n",
       "    </tr>\n",
       "    <tr>\n",
       "      <th>...</th>\n",
       "      <td>...</td>\n",
       "      <td>...</td>\n",
       "      <td>...</td>\n",
       "      <td>...</td>\n",
       "      <td>...</td>\n",
       "      <td>...</td>\n",
       "      <td>...</td>\n",
       "      <td>...</td>\n",
       "      <td>...</td>\n",
       "      <td>...</td>\n",
       "      <td>...</td>\n",
       "      <td>...</td>\n",
       "      <td>...</td>\n",
       "      <td>...</td>\n",
       "      <td>...</td>\n",
       "      <td>...</td>\n",
       "      <td>...</td>\n",
       "      <td>...</td>\n",
       "      <td>...</td>\n",
       "    </tr>\n",
       "    <tr>\n",
       "      <th>207</th>\n",
       "      <td>2011Q4</td>\n",
       "      <td>0.07</td>\n",
       "      <td>0.01</td>\n",
       "      <td>0.11</td>\n",
       "      <td>0.95</td>\n",
       "      <td>2.05</td>\n",
       "      <td>200.77</td>\n",
       "      <td>192.97</td>\n",
       "      <td>226.97</td>\n",
       "      <td>112.50</td>\n",
       "      <td>2165.77</td>\n",
       "      <td>28787.3</td>\n",
       "      <td>9599.47</td>\n",
       "      <td>8.67</td>\n",
       "      <td>95.33</td>\n",
       "      <td>13441.0</td>\n",
       "      <td>14255.9</td>\n",
       "      <td>113.987</td>\n",
       "      <td>1055.496</td>\n",
       "    </tr>\n",
       "    <tr>\n",
       "      <th>208</th>\n",
       "      <td>2012Q1</td>\n",
       "      <td>0.10</td>\n",
       "      <td>0.07</td>\n",
       "      <td>0.16</td>\n",
       "      <td>0.90</td>\n",
       "      <td>2.04</td>\n",
       "      <td>202.17</td>\n",
       "      <td>193.73</td>\n",
       "      <td>228.27</td>\n",
       "      <td>113.12</td>\n",
       "      <td>2213.97</td>\n",
       "      <td>29238.6</td>\n",
       "      <td>9777.03</td>\n",
       "      <td>8.27</td>\n",
       "      <td>96.70</td>\n",
       "      <td>13506.4</td>\n",
       "      <td>14317.4</td>\n",
       "      <td>114.599</td>\n",
       "      <td>1082.519</td>\n",
       "    </tr>\n",
       "    <tr>\n",
       "      <th>209</th>\n",
       "      <td>2012Q2</td>\n",
       "      <td>0.15</td>\n",
       "      <td>0.09</td>\n",
       "      <td>0.19</td>\n",
       "      <td>0.79</td>\n",
       "      <td>1.82</td>\n",
       "      <td>201.80</td>\n",
       "      <td>192.83</td>\n",
       "      <td>228.84</td>\n",
       "      <td>113.60</td>\n",
       "      <td>2258.30</td>\n",
       "      <td>29611.6</td>\n",
       "      <td>9888.97</td>\n",
       "      <td>8.17</td>\n",
       "      <td>97.27</td>\n",
       "      <td>13548.5</td>\n",
       "      <td>14379.3</td>\n",
       "      <td>115.035</td>\n",
       "      <td>1104.500</td>\n",
       "    </tr>\n",
       "    <tr>\n",
       "      <th>210</th>\n",
       "      <td>2012Q3</td>\n",
       "      <td>0.14</td>\n",
       "      <td>0.10</td>\n",
       "      <td>0.18</td>\n",
       "      <td>0.67</td>\n",
       "      <td>1.64</td>\n",
       "      <td>202.40</td>\n",
       "      <td>195.20</td>\n",
       "      <td>230.03</td>\n",
       "      <td>113.91</td>\n",
       "      <td>2326.47</td>\n",
       "      <td>30251.4</td>\n",
       "      <td>10029.87</td>\n",
       "      <td>8.03</td>\n",
       "      <td>97.39</td>\n",
       "      <td>13652.5</td>\n",
       "      <td>14441.9</td>\n",
       "      <td>115.810</td>\n",
       "      <td>1119.187</td>\n",
       "    </tr>\n",
       "    <tr>\n",
       "      <th>211</th>\n",
       "      <td>2012Q4</td>\n",
       "      <td>0.16</td>\n",
       "      <td>0.09</td>\n",
       "      <td>0.17</td>\n",
       "      <td>0.69</td>\n",
       "      <td>1.71</td>\n",
       "      <td>202.27</td>\n",
       "      <td>196.20</td>\n",
       "      <td>231.28</td>\n",
       "      <td>114.18</td>\n",
       "      <td>2436.73</td>\n",
       "      <td>30938.8</td>\n",
       "      <td>10319.60</td>\n",
       "      <td>7.83</td>\n",
       "      <td>98.01</td>\n",
       "      <td>13665.4</td>\n",
       "      <td>14505.4</td>\n",
       "      <td>116.089</td>\n",
       "      <td>1147.623</td>\n",
       "    </tr>\n",
       "  </tbody>\n",
       "</table>\n",
       "<p>212 rows × 19 columns</p>\n",
       "</div>"
      ],
      "text/plain": [
       "       DATE   FFR  Tbill  Tb1yr    r5   r10  PPINSA  Finished     CPI  \\\n",
       "0    1960Q1  3.93   3.87   4.57  4.64  4.49   31.67     33.20   29.40   \n",
       "1    1960Q2  3.70   2.99   3.87  4.30  4.26   31.73     33.40   29.57   \n",
       "2    1960Q3  2.94   2.36   3.07  3.67  3.83   31.63     33.43   29.59   \n",
       "3    1960Q4  2.30   2.31   2.99  3.75  3.89   31.70     33.67   29.78   \n",
       "4    1961Q1  2.00   2.35   2.87  3.64  3.79   31.80     33.63   29.84   \n",
       "..      ...   ...    ...    ...   ...   ...     ...       ...     ...   \n",
       "207  2011Q4  0.07   0.01   0.11  0.95  2.05  200.77    192.97  226.97   \n",
       "208  2012Q1  0.10   0.07   0.16  0.90  2.04  202.17    193.73  228.27   \n",
       "209  2012Q2  0.15   0.09   0.19  0.79  1.82  201.80    192.83  228.84   \n",
       "210  2012Q3  0.14   0.10   0.18  0.67  1.64  202.40    195.20  230.03   \n",
       "211  2012Q4  0.16   0.09   0.17  0.69  1.71  202.27    196.20  231.28   \n",
       "\n",
       "     CPICORE    M1NSA     M2SA     M2NSA  Unemp  IndProd     RGDP   Potent  \\\n",
       "0      18.92   140.53    896.1    299.40   5.13    23.93   2845.3   2824.2   \n",
       "1      19.00   138.40    903.3    300.03   5.23    23.41   2832.0   2851.2   \n",
       "2      19.07   139.60    919.4    305.50   5.53    23.02   2836.6   2878.7   \n",
       "3      19.14   142.67    932.8    312.30   6.27    22.47   2800.2   2906.7   \n",
       "4      19.17   142.23    948.9    317.10   6.80    22.13   2816.9   2934.8   \n",
       "..       ...      ...      ...       ...    ...      ...      ...      ...   \n",
       "207   112.50  2165.77  28787.3   9599.47   8.67    95.33  13441.0  14255.9   \n",
       "208   113.12  2213.97  29238.6   9777.03   8.27    96.70  13506.4  14317.4   \n",
       "209   113.60  2258.30  29611.6   9888.97   8.17    97.27  13548.5  14379.3   \n",
       "210   113.91  2326.47  30251.4  10029.87   8.03    97.39  13652.5  14441.9   \n",
       "211   114.18  2436.73  30938.8  10319.60   7.83    98.01  13665.4  14505.4   \n",
       "\n",
       "     Deflator      Curr  \n",
       "0      18.521    31.830  \n",
       "1      18.579    31.862  \n",
       "2      18.648    32.217  \n",
       "3      18.700    32.624  \n",
       "4      18.743    32.073  \n",
       "..        ...       ...  \n",
       "207   113.987  1055.496  \n",
       "208   114.599  1082.519  \n",
       "209   115.035  1104.500  \n",
       "210   115.810  1119.187  \n",
       "211   116.089  1147.623  \n",
       "\n",
       "[212 rows x 19 columns]"
      ]
     },
     "execution_count": 27,
     "metadata": {},
     "output_type": "execute_result"
    }
   ],
   "source": [
    "path= r'quarterly.xls'\n",
    "data = pd.read_excel(path)\n",
    "data"
   ]
  },
  {
   "cell_type": "code",
   "execution_count": 28,
   "id": "bb8b3bc9",
   "metadata": {},
   "outputs": [
    {
     "name": "stdout",
     "output_type": "stream",
     "text": [
      "<class 'pandas.core.frame.DataFrame'>\n",
      "RangeIndex: 212 entries, 0 to 211\n",
      "Data columns (total 19 columns):\n",
      " #   Column    Non-Null Count  Dtype  \n",
      "---  ------    --------------  -----  \n",
      " 0   DATE      212 non-null    object \n",
      " 1   FFR       212 non-null    float64\n",
      " 2   Tbill     212 non-null    float64\n",
      " 3   Tb1yr     212 non-null    float64\n",
      " 4   r5        212 non-null    float64\n",
      " 5   r10       212 non-null    float64\n",
      " 6   PPINSA    212 non-null    float64\n",
      " 7   Finished  212 non-null    float64\n",
      " 8   CPI       212 non-null    float64\n",
      " 9   CPICORE   212 non-null    float64\n",
      " 10  M1NSA     212 non-null    float64\n",
      " 11  M2SA      212 non-null    float64\n",
      " 12  M2NSA     212 non-null    float64\n",
      " 13  Unemp     212 non-null    float64\n",
      " 14  IndProd   212 non-null    float64\n",
      " 15  RGDP      212 non-null    float64\n",
      " 16  Potent    212 non-null    float64\n",
      " 17  Deflator  212 non-null    float64\n",
      " 18  Curr      212 non-null    float64\n",
      "dtypes: float64(18), object(1)\n",
      "memory usage: 31.6+ KB\n"
     ]
    }
   ],
   "source": [
    "data.info()"
   ]
  },
  {
   "cell_type": "code",
   "execution_count": 29,
   "id": "a4aec988",
   "metadata": {},
   "outputs": [
    {
     "data": {
      "text/plain": [
       "DATE        0\n",
       "FFR         0\n",
       "Tbill       0\n",
       "Tb1yr       0\n",
       "r5          0\n",
       "r10         0\n",
       "PPINSA      0\n",
       "Finished    0\n",
       "CPI         0\n",
       "CPICORE     0\n",
       "M1NSA       0\n",
       "M2SA        0\n",
       "M2NSA       0\n",
       "Unemp       0\n",
       "IndProd     0\n",
       "RGDP        0\n",
       "Potent      0\n",
       "Deflator    0\n",
       "Curr        0\n",
       "dtype: int64"
      ]
     },
     "execution_count": 29,
     "metadata": {},
     "output_type": "execute_result"
    }
   ],
   "source": [
    "pd.isna(data).sum()"
   ]
  },
  {
   "cell_type": "markdown",
   "id": "4e0f9f86",
   "metadata": {},
   "source": [
    "## Question 2"
   ]
  },
  {
   "cell_type": "markdown",
   "id": "33d32a3f",
   "metadata": {},
   "source": [
    "By definition $ Inf_{i} = 100. \\frac{CPI_{i+1}-CPI_{i}}{CPI_{i}} $"
   ]
  },
  {
   "cell_type": "code",
   "execution_count": 30,
   "id": "6538d98f",
   "metadata": {},
   "outputs": [],
   "source": [
    "data['INF']= 100*data['CPI'].diff()/data['CPI']"
   ]
  },
  {
   "cell_type": "code",
   "execution_count": 31,
   "id": "f61b9bb7",
   "metadata": {},
   "outputs": [
    {
     "data": {
      "image/png": "[encoded data removed]",
      "text/plain": [
       "<Figure size 864x504 with 1 Axes>"
      ]
     },
     "metadata": {
      "needs_background": "light"
     },
     "output_type": "display_data"
    }
   ],
   "source": [
    "_, ax = plt.subplots(figsize=(12, 7))\n",
    "freq=20\n",
    "ax.plot(data.DATE, data['INF'], label=\"Inflation\")\n",
    "ticks= [i * freq for i in range(int(len(data.index)/freq)+1)]\n",
    "plt.xticks(ticks,labels=data['DATE'].iloc[::freq],rotation=45)\n",
    "plt.xlabel('Date')\n",
    "plt.ylabel('Inflation')\n",
    "plt.grid()\n",
    "plt.show()"
   ]
  },
  {
   "cell_type": "markdown",
   "id": "c547ed83",
   "metadata": {},
   "source": [
    "## Question 3"
   ]
  },
  {
   "cell_type": "code",
   "execution_count": 32,
   "id": "5a5c59c7",
   "metadata": {},
   "outputs": [
    {
     "data": {
      "image/png": "[encoded data removed]",
      "text/plain": [
       "<Figure size 1440x504 with 2 Axes>"
      ]
     },
     "metadata": {
      "needs_background": "light"
     },
     "output_type": "display_data"
    }
   ],
   "source": [
    "fig, (ax0, ax1) = plt.subplots(1, 2, figsize=(20, 7))\n",
    "st.plot_acf(data['INF'][1:], ax=ax0)\n",
    "st.plot_pacf(data['INF'][1:], ax=ax1)\n",
    "plt.show()"
   ]
  },
  {
   "cell_type": "markdown",
   "id": "5a5e19d8",
   "metadata": {},
   "source": [
    "## Question 4\n",
    "### Solution detailed in the Report"
   ]
  },
  {
   "cell_type": "markdown",
   "id": "9f3df819",
   "metadata": {},
   "source": [
    "## Question 5"
   ]
  },
  {
   "cell_type": "code",
   "execution_count": 33,
   "id": "c7c78b12",
   "metadata": {},
   "outputs": [
    {
     "data": {
      "image/png": "[encoded data removed]",
      "text/plain": [
       "<Figure size 432x288 with 1 Axes>"
      ]
     },
     "metadata": {
      "needs_background": "light"
     },
     "output_type": "display_data"
    },
    {
     "name": "stdout",
     "output_type": "stream",
     "text": [
      "lag optimal according to the BIC criterion: 3\n",
      "lag optimal according to the AIC criterion: 3\n"
     ]
    }
   ],
   "source": [
    "aic = []\n",
    "bic = []\n",
    "\n",
    "for lag in range(1, 20):\n",
    "    model = stat.ar_model.AutoReg(data['INF'][1:].values, lags=lag).fit()\n",
    "    \n",
    "    aic.append(model.aic)\n",
    "    bic.append(model.bic)\n",
    "\n",
    "\n",
    "plt.plot(range(1, 20), aic, label=\"AIC\")\n",
    "plt.plot(range(1, 20), bic, label='BIC')\n",
    "plt.legend()\n",
    "plt.show()\n",
    "\n",
    "print(f\"lag optimal according to the BIC criterion: {np.argmin(bic) + 1}\")\n",
    "print(f\"lag optimal according to the AIC criterion: {np.argmin(aic) + 1}\")"
   ]
  },
  {
   "cell_type": "markdown",
   "id": "31b2ae8b",
   "metadata": {},
   "source": [
    "## Question 6"
   ]
  },
  {
   "cell_type": "code",
   "execution_count": 34,
   "id": "e27b90b5",
   "metadata": {},
   "outputs": [
    {
     "data": {
      "image/png": "[encoded data removed]",
      "text/plain": [
       "<Figure size 864x504 with 2 Axes>"
      ]
     },
     "metadata": {
      "needs_background": "light"
     },
     "output_type": "display_data"
    }
   ],
   "source": [
    "figure,ax1 = plt.subplots(figsize=(12, 7))\n",
    "ax2 = ax1.twinx()\n",
    "freq=20\n",
    "ax2.plot(data.DATE, data.Unemp, label = \"Unemployement\",color='#ffbb5c')\n",
    "ax1.plot(data.DATE, data.INF, label = \"Inflation\", color='#2076b4')\n",
    "ticks= [i * freq for i in range(int(len(data.index)/freq)+1)]\n",
    "plt.xticks(ticks,labels=data['DATE'].iloc[::freq],rotation=45)\n",
    "ax1.set_xlabel('Date')\n",
    "ax1.set_ylabel('Inflation',color='#2076b4')\n",
    "ax2.set_ylabel('Unemployement',color='#ffbb5c' )\n",
    "plt.legend(loc=0)\n",
    "\n",
    "plt.show()"
   ]
  },
  {
   "cell_type": "code",
   "execution_count": 35,
   "id": "0657d9f5",
   "metadata": {},
   "outputs": [
    {
     "data": {
      "image/png": "[encoded data removed]",
      "text/plain": [
       "<Figure size 864x504 with 1 Axes>"
      ]
     },
     "metadata": {
      "needs_background": "light"
     },
     "output_type": "display_data"
    }
   ],
   "source": [
    "plt.figure(figsize=(12, 7))\n",
    "\n",
    "plt.scatter(data.INF,data.Unemp)\n",
    "plt.xlabel(\"Inflation\")\n",
    "plt.ylabel(\"unemployement\")\n",
    "plt.title(\" Philippe's curve\",fontsize=20)\n",
    "fiit = np.polyfit(data.INF[1:], data.Unemp[1:], 1)\n",
    "line = np.poly1d(fiit)\n",
    "plt.plot(data.INF[1:],line(data.INF[1:]), \"r-\")\n",
    "plt.show()"
   ]
  },
  {
   "cell_type": "code",
   "execution_count": 36,
   "id": "ae2474e9",
   "metadata": {},
   "outputs": [
    {
     "name": "stdout",
     "output_type": "stream",
     "text": [
      "                            OLS Regression Results                            \n",
      "==============================================================================\n",
      "Dep. Variable:                  Unemp   R-squared:                       0.000\n",
      "Model:                            OLS   Adj. R-squared:                 -0.005\n",
      "Method:                 Least Squares   F-statistic:                  0.008229\n",
      "Date:                Fri, 09 Dec 2022   Prob (F-statistic):              0.928\n",
      "Time:                        13:19:32   Log-Likelihood:                -400.28\n",
      "No. Observations:                 211   AIC:                             804.6\n",
      "Df Residuals:                     209   BIC:                             811.3\n",
      "Df Model:                           1                                         \n",
      "Covariance Type:            nonrobust                                         \n",
      "==============================================================================\n",
      "                 coef    std err          t      P>|t|      [0.025      0.975]\n",
      "------------------------------------------------------------------------------\n",
      "const          6.0735      0.182     33.388      0.000       5.715       6.432\n",
      "INF            0.0134      0.148      0.091      0.928      -0.279       0.305\n",
      "==============================================================================\n",
      "Omnibus:                       13.851   Durbin-Watson:                   0.044\n",
      "Prob(Omnibus):                  0.001   Jarque-Bera (JB):               15.331\n",
      "Skew:                           0.659   Prob(JB):                     0.000469\n",
      "Kurtosis:                       2.935   Cond. No.                         3.00\n",
      "==============================================================================\n",
      "\n",
      "Notes:\n",
      "[1] Standard Errors assume that the covariance matrix of the errors is correctly specified.\n"
     ]
    }
   ],
   "source": [
    "X = sm.add_constant(data.INF[1:])\n",
    "y = data.Unemp[1:]\n",
    "\n",
    "model = sm.OLS(y, X)\n",
    "results = model.fit()\n",
    "residual = results.resid\n",
    "print(results.summary())"
   ]
  },
  {
   "cell_type": "markdown",
   "id": "699fc87f",
   "metadata": {},
   "source": [
    "## Question 7"
   ]
  },
  {
   "cell_type": "code",
   "execution_count": 37,
   "id": "b9be74c3",
   "metadata": {},
   "outputs": [
    {
     "name": "stdout",
     "output_type": "stream",
     "text": [
      "Durbibn Watson:  0.04411869153477157\n",
      "\n",
      "-------------------------------------------\n",
      "\n",
      "                                 OLS Regression Results                                \n",
      "=======================================================================================\n",
      "Dep. Variable:                      y   R-squared (uncentered):                   0.956\n",
      "Model:                            OLS   Adj. R-squared (uncentered):              0.956\n",
      "Method:                 Least Squares   F-statistic:                              4565.\n",
      "Date:                Fri, 09 Dec 2022   Prob (F-statistic):                   5.77e-144\n",
      "Time:                        13:19:32   Log-Likelihood:                         -70.233\n",
      "No. Observations:                 210   AIC:                                      142.5\n",
      "Df Residuals:                     209   BIC:                                      145.8\n",
      "Df Model:                           1                                                  \n",
      "Covariance Type:            nonrobust                                                  \n",
      "==============================================================================\n",
      "                 coef    std err          t      P>|t|      [0.025      0.975]\n",
      "------------------------------------------------------------------------------\n",
      "x1             0.9800      0.015     67.566      0.000       0.951       1.009\n",
      "==============================================================================\n",
      "Omnibus:                       78.877   Durbin-Watson:                   0.666\n",
      "Prob(Omnibus):                  0.000   Jarque-Bera (JB):              244.919\n",
      "Skew:                           1.582   Prob(JB):                     6.56e-54\n",
      "Kurtosis:                       7.240   Cond. No.                         1.00\n",
      "==============================================================================\n",
      "\n",
      "Notes:\n",
      "[1] R² is computed without centering (uncentered) since the model does not contain a constant.\n",
      "[2] Standard Errors assume that the covariance matrix of the errors is correctly specified.\n"
     ]
    }
   ],
   "source": [
    "from statsmodels.stats.stattools import durbin_watson\n",
    "model = sm.OLS(residual[1:], residual.shift(1)[1:])\n",
    "results = model.fit()\n",
    "print(\"Durbibn Watson: \",durbin_watson(residual))\n",
    "print(\"\\n-------------------------------------------\\n\")\n",
    "print(results.summary())"
   ]
  },
  {
   "cell_type": "markdown",
   "id": "710c863e",
   "metadata": {},
   "source": [
    "## Question 8"
   ]
  },
  {
   "cell_type": "code",
   "execution_count": 38,
   "id": "0802987e",
   "metadata": {},
   "outputs": [
    {
     "name": "stdout",
     "output_type": "stream",
     "text": [
      "                            OLS Regression Results                            \n",
      "==============================================================================\n",
      "Dep. Variable:                  Unemp   R-squared:                       0.000\n",
      "Model:                            OLS   Adj. R-squared:                 -0.005\n",
      "Method:                 Least Squares   F-statistic:                   0.01777\n",
      "Date:                Fri, 09 Dec 2022   Prob (F-statistic):              0.894\n",
      "Time:                        13:19:32   Log-Likelihood:                 422.77\n",
      "No. Observations:                 210   AIC:                            -841.5\n",
      "Df Residuals:                     208   BIC:                            -834.9\n",
      "Df Model:                           1                                         \n",
      "Covariance Type:            nonrobust                                         \n",
      "==============================================================================\n",
      "                 coef    std err          t      P>|t|      [0.025      0.975]\n",
      "------------------------------------------------------------------------------\n",
      "const          0.1214      0.004     33.233      0.000       0.114       0.129\n",
      "INF            0.0198      0.148      0.133      0.894      -0.272       0.312\n",
      "==============================================================================\n",
      "Omnibus:                       14.332   Durbin-Watson:                   0.044\n",
      "Prob(Omnibus):                  0.001   Jarque-Bera (JB):               15.911\n",
      "Skew:                           0.674   Prob(JB):                     0.000351\n",
      "Kurtosis:                       2.965   Cond. No.                         66.2\n",
      "==============================================================================\n",
      "\n",
      "Notes:\n",
      "[1] Standard Errors assume that the covariance matrix of the errors is correctly specified.\n",
      "                                 OLS Regression Results                                \n",
      "=======================================================================================\n",
      "Dep. Variable:                      y   R-squared (uncentered):                   0.956\n",
      "Model:                            OLS   Adj. R-squared (uncentered):              0.956\n",
      "Method:                 Least Squares   F-statistic:                              4506.\n",
      "Date:                Fri, 09 Dec 2022   Prob (F-statistic):                   6.34e-143\n",
      "Time:                        13:19:32   Log-Likelihood:                          746.51\n",
      "No. Observations:                 209   AIC:                                     -1491.\n",
      "Df Residuals:                     208   BIC:                                     -1488.\n",
      "Df Model:                           1                                                  \n",
      "Covariance Type:            nonrobust                                                  \n",
      "==============================================================================\n",
      "                 coef    std err          t      P>|t|      [0.025      0.975]\n",
      "------------------------------------------------------------------------------\n",
      "x1             0.9805      0.015     67.124      0.000       0.952       1.009\n",
      "==============================================================================\n",
      "Omnibus:                       77.833   Durbin-Watson:                   0.667\n",
      "Prob(Omnibus):                  0.000   Jarque-Bera (JB):              238.762\n",
      "Skew:                           1.571   Prob(JB):                     1.42e-52\n",
      "Kurtosis:                       7.188   Cond. No.                         1.00\n",
      "==============================================================================\n",
      "\n",
      "Notes:\n",
      "[1] R² is computed without centering (uncentered) since the model does not contain a constant.\n",
      "[2] Standard Errors assume that the covariance matrix of the errors is correctly specified.\n"
     ]
    }
   ],
   "source": [
    "rho=results.params[0]\n",
    "unemp=data.Unemp[1:]-rho*data.Unemp[:-1]\n",
    "inf=data.INF[1:]-rho*data.INF[:-1]\n",
    "inf= inf.dropna()\n",
    "unemp= unemp.dropna()\n",
    "\n",
    "X = sm.add_constant(inf)\n",
    "y = unemp\n",
    "model = sm.OLS(y, X)\n",
    "results = model.fit()\n",
    "residual = results.resid\n",
    "print(results.summary())\n",
    "\n",
    "model1 = sm.OLS(residual[1:], residual.shift(1)[1:])\n",
    "results1 = model1.fit()\n",
    "print(results1.summary())\n"
   ]
  },
  {
   "cell_type": "markdown",
   "id": "5d5d281f",
   "metadata": {},
   "source": [
    "## Question 9"
   ]
  },
  {
   "cell_type": "code",
   "execution_count": 39,
   "id": "f80540df",
   "metadata": {
    "scrolled": false
   },
   "outputs": [
    {
     "name": "stdout",
     "output_type": "stream",
     "text": [
      "                            OLS Regression Results                            \n",
      "==============================================================================\n",
      "Dep. Variable:                  Unemp   R-squared:                       0.007\n",
      "Model:                            OLS   Adj. R-squared:                 -0.003\n",
      "Method:                 Least Squares   F-statistic:                    0.7061\n",
      "Date:                Fri, 09 Dec 2022   Prob (F-statistic):              0.403\n",
      "Time:                        13:19:32   Log-Likelihood:                -204.20\n",
      "No. Observations:                 105   AIC:                             412.4\n",
      "Df Residuals:                     103   BIC:                             417.7\n",
      "Df Model:                           1                                         \n",
      "Covariance Type:            nonrobust                                         \n",
      "==============================================================================\n",
      "                 coef    std err          t      P>|t|      [0.025      0.975]\n",
      "------------------------------------------------------------------------------\n",
      "const          5.9353      0.290     20.477      0.000       5.360       6.510\n",
      "INF            0.1611      0.192      0.840      0.403      -0.219       0.541\n",
      "==============================================================================\n",
      "Omnibus:                        3.872   Durbin-Watson:                   0.059\n",
      "Prob(Omnibus):                  0.144   Jarque-Bera (JB):                3.769\n",
      "Skew:                           0.461   Prob(JB):                        0.152\n",
      "Kurtosis:                       2.890   Cond. No.                         3.49\n",
      "==============================================================================\n",
      "\n",
      "Notes:\n",
      "[1] Standard Errors assume that the covariance matrix of the errors is correctly specified.\n"
     ]
    },
    {
     "data": {
      "image/png": "[encoded data removed]",
      "text/plain": [
       "<Figure size 864x504 with 1 Axes>"
      ]
     },
     "metadata": {
      "needs_background": "light"
     },
     "output_type": "display_data"
    },
    {
     "name": "stdout",
     "output_type": "stream",
     "text": [
      "                            OLS Regression Results                            \n",
      "==============================================================================\n",
      "Dep. Variable:                  Unemp   R-squared:                       0.031\n",
      "Model:                            OLS   Adj. R-squared:                  0.021\n",
      "Method:                 Least Squares   F-statistic:                     3.285\n",
      "Date:                Fri, 09 Dec 2022   Prob (F-statistic):             0.0728\n",
      "Time:                        13:19:33   Log-Likelihood:                -193.37\n",
      "No. Observations:                 106   AIC:                             390.7\n",
      "Df Residuals:                     104   BIC:                             396.1\n",
      "Df Model:                           1                                         \n",
      "Covariance Type:            nonrobust                                         \n",
      "==============================================================================\n",
      "                 coef    std err          t      P>|t|      [0.025      0.975]\n",
      "------------------------------------------------------------------------------\n",
      "const          6.4223      0.258     24.925      0.000       5.911       6.933\n",
      "INF           -0.5434      0.300     -1.812      0.073      -1.138       0.051\n",
      "==============================================================================\n",
      "Omnibus:                       12.693   Durbin-Watson:                   0.082\n",
      "Prob(Omnibus):                  0.002   Jarque-Bera (JB):               14.137\n",
      "Skew:                           0.892   Prob(JB):                     0.000851\n",
      "Kurtosis:                       3.122   Cond. No.                         3.24\n",
      "==============================================================================\n",
      "\n",
      "Notes:\n",
      "[1] Standard Errors assume that the covariance matrix of the errors is correctly specified.\n"
     ]
    },
    {
     "data": {
      "image/png": "[encoded data removed]",
      "text/plain": [
       "<Figure size 864x504 with 1 Axes>"
      ]
     },
     "metadata": {
      "needs_background": "light"
     },
     "output_type": "display_data"
    }
   ],
   "source": [
    "X = sm.add_constant(data.INF[1:])\n",
    "y = data.Unemp[1:] \n",
    "n, p = X.shape\n",
    "indice = n // 2\n",
    "\n",
    "# regression for the 1st division \n",
    "\n",
    "X1 = X[:indice] \n",
    "y1 = y[:indice] \n",
    "\n",
    "model1 = sm.OLS(y1, X1)\n",
    "results1 = model1.fit()\n",
    "residual1 = results1.resid\n",
    "SSE_c1 = np.sum(results1.resid**2)\n",
    "\n",
    "print(results1.summary())\n",
    "\n",
    "plt.figure(figsize=(12, 7))\n",
    "freq=20\n",
    "ticks= [i * freq for i in range(int(len(data.index)/freq)+1)]\n",
    "plt.xticks(ticks,labels=data['DATE'].iloc[::freq],rotation=45)\n",
    "\n",
    "plt.plot(data[\"DATE\"][1:indice],data.Unemp[1:indice], label= \"Unemployment\")\n",
    "plt.plot(data[\"DATE\"][1:indice],data.INF[1:indice],label=\"Inflation\")\n",
    "\n",
    "plt.xlabel('Date')\n",
    "plt.ylabel('Inflation')\n",
    "plt.title(\"Evolution of inflation and unemployment rates in the first window of the sample\")\n",
    "plt.legend()\n",
    "plt.show()\n",
    "\n",
    "# regression for the 2nd division\n",
    "\n",
    "X2 = X[indice:] \n",
    "y2 = y[indice:]\n",
    "\n",
    "model2 = sm.OLS(y2, X2)\n",
    "results2 = model2.fit()\n",
    "residual2 = results2.resid\n",
    "SSE_c2 = np.sum(results2.resid**2)\n",
    "\n",
    "print(results2.summary())\n",
    "\n",
    "plt.figure(figsize=(12, 7))\n",
    "freq=20\n",
    "ticks= [i * freq for i in range(int(len(data.index)/freq)+1)]\n",
    "plt.xticks(ticks,labels=data['DATE'].iloc[::freq],rotation=45)\n",
    "\n",
    "plt.plot(data[\"DATE\"][indice:],data.Unemp[indice:], label= \"Unemployment\")\n",
    "plt.plot(data[\"DATE\"][indice:],data.INF[indice:],label=\"Inflation\")\n",
    "\n",
    "plt.xlabel('Date')\n",
    "plt.ylabel('Inflation')\n",
    "plt.title(\"Evolution of inflation and unemployment rates in the second window of the sample\")\n",
    "plt.legend()\n",
    "plt.show()"
   ]
  },
  {
   "cell_type": "markdown",
   "id": "2ea72a72",
   "metadata": {},
   "source": [
    "## Question 10"
   ]
  },
  {
   "cell_type": "code",
   "execution_count": 40,
   "id": "a2cb9cdd",
   "metadata": {},
   "outputs": [
    {
     "data": {
      "text/html": [
       "<div>\n",
       "<style scoped>\n",
       "    .dataframe tbody tr th:only-of-type {\n",
       "        vertical-align: middle;\n",
       "    }\n",
       "\n",
       "    .dataframe tbody tr th {\n",
       "        vertical-align: top;\n",
       "    }\n",
       "\n",
       "    .dataframe thead th {\n",
       "        text-align: right;\n",
       "    }\n",
       "</style>\n",
       "<table border=\"1\" class=\"dataframe\">\n",
       "  <thead>\n",
       "    <tr style=\"text-align: right;\">\n",
       "      <th></th>\n",
       "      <th>const</th>\n",
       "      <th>INF_1</th>\n",
       "      <th>INF_2</th>\n",
       "      <th>INF_3</th>\n",
       "      <th>INF_4</th>\n",
       "      <th>Unemp_1</th>\n",
       "      <th>Unemp_2</th>\n",
       "      <th>Unemp_3</th>\n",
       "      <th>Unemp_4</th>\n",
       "    </tr>\n",
       "  </thead>\n",
       "  <tbody>\n",
       "    <tr>\n",
       "      <th>4</th>\n",
       "      <td>1.0</td>\n",
       "      <td>0.201072</td>\n",
       "      <td>0.638012</td>\n",
       "      <td>0.067590</td>\n",
       "      <td>0.574907</td>\n",
       "      <td>6.8</td>\n",
       "      <td>6.27</td>\n",
       "      <td>5.53</td>\n",
       "      <td>5.23</td>\n",
       "    </tr>\n",
       "    <tr>\n",
       "      <th>5</th>\n",
       "      <td>1.0</td>\n",
       "      <td>-0.033523</td>\n",
       "      <td>0.201072</td>\n",
       "      <td>0.638012</td>\n",
       "      <td>0.067590</td>\n",
       "      <td>7.0</td>\n",
       "      <td>6.80</td>\n",
       "      <td>6.27</td>\n",
       "      <td>5.53</td>\n",
       "    </tr>\n",
       "  </tbody>\n",
       "</table>\n",
       "</div>"
      ],
      "text/plain": [
       "   const     INF_1     INF_2     INF_3     INF_4  Unemp_1  Unemp_2  Unemp_3  \\\n",
       "4    1.0  0.201072  0.638012  0.067590  0.574907      6.8     6.27     5.53   \n",
       "5    1.0 -0.033523  0.201072  0.638012  0.067590      7.0     6.80     6.27   \n",
       "\n",
       "   Unemp_4  \n",
       "4     5.23  \n",
       "5     5.53  "
      ]
     },
     "execution_count": 40,
     "metadata": {},
     "output_type": "execute_result"
    }
   ],
   "source": [
    "X = pd.concat([pd.concat([data.INF[1:].reset_index(drop=True).shift(i) for i in range(1, 5)], axis=1), pd.concat([data.Unemp[1:].reset_index(drop=True).shift(i) for i in range(1, 5)], axis=1)], axis=1)\n",
    "new_name = []\n",
    "for i, name in enumerate(X.columns):\n",
    "    new_name.append(name + '_' + str((i%4+1)))\n",
    " \n",
    "X.columns = new_name \n",
    "X = X[4:]\n",
    "X = sm.add_constant(X)\n",
    "X.head(2)"
   ]
  },
  {
   "cell_type": "code",
   "execution_count": 41,
   "id": "a77de91c",
   "metadata": {},
   "outputs": [
    {
     "name": "stdout",
     "output_type": "stream",
     "text": [
      "                            OLS Regression Results                            \n",
      "==============================================================================\n",
      "Dep. Variable:                      y   R-squared:                       0.979\n",
      "Model:                            OLS   Adj. R-squared:                  0.978\n",
      "Method:                 Least Squares   F-statistic:                     1143.\n",
      "Date:                Fri, 09 Dec 2022   Prob (F-statistic):          3.10e-161\n",
      "Time:                        13:19:33   Log-Likelihood:                 4.5455\n",
      "No. Observations:                 207   AIC:                             8.909\n",
      "Df Residuals:                     198   BIC:                             38.90\n",
      "Df Model:                           8                                         \n",
      "Covariance Type:            nonrobust                                         \n",
      "==============================================================================\n",
      "                 coef    std err          t      P>|t|      [0.025      0.975]\n",
      "------------------------------------------------------------------------------\n",
      "const          0.1454      0.072      2.007      0.046       0.003       0.288\n",
      "INF_1          0.0275      0.038      0.722      0.471      -0.048       0.102\n",
      "INF_2         -0.0204      0.041     -0.493      0.623      -0.102       0.061\n",
      "INF_3          0.0705      0.040      1.748      0.082      -0.009       0.150\n",
      "INF_4          0.0174      0.038      0.457      0.648      -0.058       0.092\n",
      "Unemp_1        1.5931      0.071     22.379      0.000       1.453       1.733\n",
      "Unemp_2       -0.6476      0.134     -4.837      0.000      -0.912      -0.384\n",
      "Unemp_3        0.0253      0.135      0.187      0.852      -0.241       0.292\n",
      "Unemp_4       -0.0101      0.070     -0.143      0.886      -0.148       0.128\n",
      "==============================================================================\n",
      "Omnibus:                       28.701   Durbin-Watson:                   1.997\n",
      "Prob(Omnibus):                  0.000   Jarque-Bera (JB):               67.462\n",
      "Skew:                           0.618   Prob(JB):                     2.24e-15\n",
      "Kurtosis:                       5.509   Cond. No.                         143.\n",
      "==============================================================================\n",
      "\n",
      "Notes:\n",
      "[1] Standard Errors assume that the covariance matrix of the errors is correctly specified.\n",
      "                            OLS Regression Results                            \n",
      "==============================================================================\n",
      "Dep. Variable:                      y   R-squared:                       0.977\n",
      "Model:                            OLS   Adj. R-squared:                  0.977\n",
      "Method:                 Least Squares   F-statistic:                     2165.\n",
      "Date:                Fri, 09 Dec 2022   Prob (F-statistic):          1.36e-164\n",
      "Time:                        13:19:33   Log-Likelihood:                -2.9991\n",
      "No. Observations:                 207   AIC:                             16.00\n",
      "Df Residuals:                     202   BIC:                             32.66\n",
      "Df Model:                           4                                         \n",
      "Covariance Type:            nonrobust                                         \n",
      "==============================================================================\n",
      "                 coef    std err          t      P>|t|      [0.025      0.975]\n",
      "------------------------------------------------------------------------------\n",
      "const          0.2157      0.071      3.036      0.003       0.076       0.356\n",
      "Unemp_1        1.6459      0.070     23.393      0.000       1.507       1.785\n",
      "Unemp_2       -0.6975      0.135     -5.159      0.000      -0.964      -0.431\n",
      "Unemp_3        0.0238      0.135      0.177      0.860      -0.241       0.289\n",
      "Unemp_4       -0.0078      0.070     -0.112      0.911      -0.145       0.130\n",
      "==============================================================================\n",
      "Omnibus:                       39.770   Durbin-Watson:                   1.996\n",
      "Prob(Omnibus):                  0.000   Jarque-Bera (JB):               83.656\n",
      "Skew:                           0.908   Prob(JB):                     6.83e-19\n",
      "Kurtosis:                       5.530   Cond. No.                         138.\n",
      "==============================================================================\n",
      "\n",
      "Notes:\n",
      "[1] Standard Errors assume that the covariance matrix of the errors is correctly specified.\n",
      "           f-stat   p-value\n",
      "results  3.837564  0.004979\n"
     ]
    }
   ],
   "source": [
    "# regression with all variables \n",
    "y = data.Unemp[5:]\n",
    "n, p = X.shape\n",
    "\n",
    "model = sm.OLS(y.values.reshape(-1,1), X)\n",
    "results = model.fit()\n",
    "residual = results.resid\n",
    "SSE = np.sum(residual**2)\n",
    "\n",
    "print(results.summary())\n",
    "\n",
    "# regression without Unemp variable (beta_Unemp_i = 0 in the f-test) \n",
    "\n",
    "X1 = sm.add_constant(X.iloc[:, 5:])\n",
    "y =data.Unemp[5:]\n",
    "\n",
    "model = sm.OLS(y.values.reshape(-1,1), X1)\n",
    "results1 = model.fit()\n",
    "residual1 = results1.resid\n",
    "SSE1 = np.sum(residual1**2)\n",
    "\n",
    "print(results1.summary())\n",
    "\n",
    "# Compute Fisher Stat \n",
    "\n",
    "f_static = ((SSE1 - SSE) / 4)  /  (SSE / (n - 4))\n",
    "p_value = fdist.sf(f_static, 4, n - 4)\n",
    "\n",
    "results_fisher = pd.DataFrame({\"f-stat\": f_static, \"p-value\": p_value}, index=[\"results\"])\n",
    "            \n",
    "print(results_fisher)"
   ]
  },
  {
   "cell_type": "markdown",
   "id": "97635a6c",
   "metadata": {},
   "source": [
    "## Question 11"
   ]
  },
  {
   "cell_type": "code",
   "execution_count": 42,
   "id": "ae5f5d74",
   "metadata": {},
   "outputs": [
    {
     "data": {
      "text/plain": [
       "0.09497687398547783"
      ]
     },
     "execution_count": 42,
     "metadata": {},
     "output_type": "execute_result"
    },
    {
     "data": {
      "image/png": "[encoded data removed]",
      "text/plain": [
       "<Figure size 432x288 with 1 Axes>"
      ]
     },
     "metadata": {
      "needs_background": "light"
     },
     "output_type": "display_data"
    }
   ],
   "source": [
    "inflag=results.params[1:5]\n",
    "plt.plot([1,2,3,4],inflag)\n",
    "plt.title(\"delays distributed from inflation on Unemployement\")\n",
    "\n",
    "chomlag=results.params[5:]\n",
    "plt.plot([1,2,3,4],chomlag,c='r')\n",
    "plt.title(\"the time limits distributed by unemployment on Unemployement\")\n",
    "\n",
    "#the long term effect of inflation on unemployment is given by the sum of the parameters of the model \n",
    "effect=results.params[1:5].sum()\n",
    "effect"
   ]
  },
  {
   "cell_type": "code",
   "execution_count": 43,
   "id": "1f598867",
   "metadata": {},
   "outputs": [
    {
     "data": {
      "image/png": "[encoded data removed]",
      "text/plain": [
       "<Figure size 864x504 with 2 Axes>"
      ]
     },
     "metadata": {
      "needs_background": "light"
     },
     "output_type": "display_data"
    },
    {
     "name": "stdout",
     "output_type": "stream",
     "text": [
      "Sum of coefficients associated with inflation: 0.095\n"
     ]
    }
   ],
   "source": [
    "fig, ax = plt.subplots(1, 2, figsize=(12, 7))\n",
    "\n",
    "inflag = results.params[1:5]    \n",
    "ax[0].stem(range(1, 5), inflag , use_line_collection=True)\n",
    "ax[0].set_title(\"Time-dependent inflation coefficients\")\n",
    "ax[0].set_xlabel(\"Inflation deadlines\")\n",
    "ax[0].set_xticks(range(1, 5))\n",
    "\n",
    "chomlag= results.params[5:]\n",
    "ax[1].stem(range(1, 5), chomlag, use_line_collection=True)\n",
    "ax[1].set_title(\"Coefficients associated with the unemployment rate as a function of time\")\n",
    "ax[1].set_xlabel(\"Time limits for unemployment\")\n",
    "ax[1].set_xticks(range(1, 5))\n",
    "\n",
    "plt.show()\n",
    "\n",
    "print(\"Sum of coefficients associated with inflation: {0:0.3f}\".format(np.sum(results.params[1:5])))\n",
    "\n"
   ]
  }
 ],
 "metadata": {
  "kernelspec": {
   "display_name": "Python 3",
   "language": "python",
   "name": "python3"
  },
  "language_info": {
   "codemirror_mode": {
    "name": "ipython",
    "version": 3
   },
   "file_extension": ".py",
   "mimetype": "text/x-python",
   "name": "python",
   "nbconvert_exporter": "python",
   "pygments_lexer": "ipython3",
   "version": "3.8.8"
  }
 },
 "nbformat": 4,
 "nbformat_minor": 5
}
